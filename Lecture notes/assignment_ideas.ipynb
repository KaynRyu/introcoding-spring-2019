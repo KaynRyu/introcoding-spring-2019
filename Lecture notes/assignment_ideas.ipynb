{
 "cells": [
  {
   "cell_type": "markdown",
   "metadata": {},
   "source": [
    "# Ideas for class\n",
    "\n",
    "## Challenges\n",
    "\n",
    "* Write code to count the sum of all numbers from 1 to 100\n",
    "\n",
    "* Find a given DNA base in an example long DNA sequence\n",
    "\n",
    "* Count the number of appearances of each word longer than four characters in some example text\n",
    "\n",
    "* Create a lambda function to calculate a second-order (quadratic) polynomial b1+b2*x+b3*x^2\n",
    "\n",
    "\n",
    "## Semester project\n",
    "\n",
    "* Projects are individual\n",
    "\n",
    "* A single ipython notebook document\n",
    "\n",
    "* Summary cell has to be written in Markdown (max 500 words)\n",
    "\n",
    "* Equations have to be written in LaTeX\n",
    "\n",
    "* Code must be Python version 3\n",
    "\n",
    "\n",
    "\n",
    "## Team challenge\n",
    "\n",
    "* Random student group generator\n",
    "\n",
    "* Weather generator\n",
    "\n",
    "\n",
    "\n"
   ]
  }
 ],
 "metadata": {
  "kernelspec": {
   "display_name": "Python 3",
   "language": "python",
   "name": "python3"
  },
  "language_info": {
   "codemirror_mode": {
    "name": "ipython",
    "version": 3
   },
   "file_extension": ".py",
   "mimetype": "text/x-python",
   "name": "python",
   "nbconvert_exporter": "python",
   "pygments_lexer": "ipython3",
   "version": "3.7.0"
  }
 },
 "nbformat": 4,
 "nbformat_minor": 2
}
