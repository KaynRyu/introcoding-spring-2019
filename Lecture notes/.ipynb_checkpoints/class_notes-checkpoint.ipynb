{
 "cells": [
  {
   "cell_type": "markdown",
   "metadata": {},
   "source": [
    "# Class 1\n",
    "\n",
    "**Topic: Syllabus**  \n",
    "**Date: 22-Jan-2019**  \n",
    "**Time: 14:30 to 15:45**  \n",
    "**Classroom: TH1017**  \n",
    "**Instructor: Andres Patrignani**\n",
    "\n",
    "## Introduce the course (5 min)\n",
    "\n",
    "* Introductory course, every new task will first described at the basic level\n",
    "* Python language, most popular language in science, large community of users\n",
    "* Applications of programming\n",
    "    * Automate tasks\n",
    "    * Repdroduce a task by creating a blueprint\n",
    "    * Advising, see thought process of students\n",
    "    * Analyze data in a different way\n",
    "    * Create something out of thin air\n",
    "    \n",
    "## Class requirements\n",
    "\n",
    "* A laptop\n",
    "* Bring laptop charger\n",
    "* I suggest using Chrome browser\n",
    "\n",
    "## Course syllabus (10 min)\n",
    "\n",
    "* Handle each student a copy of the syllabus\n",
    "* Allocate 10 minutes to read and explain the format of the course\n",
    "\n",
    "## Introduce the instructor (5 min)\n",
    "\n",
    "* Before coding I was locked into analysis of variance and significant differences\n",
    "* After learning how to code\n",
    "    \n",
    "## Share the opinion of other people about coding (10 min)\n",
    "\n",
    "* Show video of code.org\n",
    "* Ask students to read inspirational quotes (quotes come from the website, not the video)\n",
    "\n",
    "## Brief story of coding languages in Science (10 min)\n",
    "\n",
    "Make a timeline. Source: <https://www.wikiwand.com/en/Timeline_of_programming_languages>\n",
    "    * 1958 - Fortran II\n",
    "    * 1964 - BASIC (show soil physics book)\n",
    "    * 1970 - Pascal\n",
    "    * 1972 - C (Low level, base of other languages: C++,Java,JavaScript,C#,PHP, Python)\n",
    "    * 1976 - SAS\n",
    "    * 1978 - Matlab (show website)\n",
    "    * 1989 - Python (show website)\n",
    "    * 1990 - HTML (physicist Tim Berners-Lee, a contractor at CERN, used for documentation)\n",
    "    * 1993 - R (show website)\n",
    "    * 1995 - Java, PHP, Javascript, Ruby\n",
    "    * 2012 - Julia (show website)\n",
    "    \n",
    "## Why Python? (10 minutes)\n",
    "    \n",
    "## Anaconda package (rest of the class time)\n",
    "\n",
    "* Review installation of Anaconda package\n",
    "* Visit with students and troubleshoot problems\n",
    "        "
   ]
  },
  {
   "cell_type": "markdown",
   "metadata": {},
   "source": [
    "# Class 2\n",
    "\n",
    "**Topic: Jupyter notebooks**  \n",
    "**Date: 24-Jan-2019**  \n",
    "**Time: 14:30 to 15:45**  \n",
    "**Classroom: TH1017**  \n",
    "**Instructor: Andres Patrignani**\n",
    "\n",
    "## Explore different Apps within the Anaconda package\n",
    "\n",
    "* Spyder (Scientific Python Development Environment)\n",
    "* Jupyter notebook\n",
    "* Jupyter lab\n",
    "\n",
    "##\n"
   ]
  },
  {
   "cell_type": "markdown",
   "metadata": {},
   "source": [
    "3\t29-Jan-2019\n"
   ]
  },
  {
   "cell_type": "markdown",
   "metadata": {},
   "source": [
    "4\t31-Jan-2019\n"
   ]
  },
  {
   "cell_type": "markdown",
   "metadata": {},
   "source": [
    "5\t5-Feb-2019\n"
   ]
  },
  {
   "cell_type": "markdown",
   "metadata": {},
   "source": [
    "6\t7-Feb-2019\n"
   ]
  },
  {
   "cell_type": "markdown",
   "metadata": {},
   "source": [
    "7\t12-Feb-2019\n"
   ]
  },
  {
   "cell_type": "markdown",
   "metadata": {},
   "source": [
    "8\t14-Feb-2019\n"
   ]
  },
  {
   "cell_type": "markdown",
   "metadata": {},
   "source": [
    "9\t19-Feb-2019\n"
   ]
  },
  {
   "cell_type": "markdown",
   "metadata": {},
   "source": [
    "10\t21-Feb-2019\n"
   ]
  },
  {
   "cell_type": "markdown",
   "metadata": {},
   "source": [
    "11\t26-Feb-2019\n"
   ]
  },
  {
   "cell_type": "markdown",
   "metadata": {},
   "source": [
    "12\t28-Feb-2019\n"
   ]
  },
  {
   "cell_type": "markdown",
   "metadata": {},
   "source": [
    "13\t5-Mar-2019\n"
   ]
  },
  {
   "cell_type": "markdown",
   "metadata": {},
   "source": [
    "14\t7-Mar-2019\n"
   ]
  },
  {
   "cell_type": "markdown",
   "metadata": {},
   "source": [
    "15\t12-Mar-2019\n",
    "\n",
    "Spring break\n"
   ]
  },
  {
   "cell_type": "markdown",
   "metadata": {},
   "source": [
    "16\t14-Mar-2019\n",
    "\n",
    "SPring break\n"
   ]
  },
  {
   "cell_type": "markdown",
   "metadata": {},
   "source": [
    "17\t19-Mar-2019\n"
   ]
  },
  {
   "cell_type": "markdown",
   "metadata": {},
   "source": [
    "18\t21-Mar-2019\n"
   ]
  },
  {
   "cell_type": "markdown",
   "metadata": {},
   "source": [
    "19\t26-Mar-2019\n"
   ]
  },
  {
   "cell_type": "markdown",
   "metadata": {},
   "source": [
    "20\t28-Mar-2019\n"
   ]
  },
  {
   "cell_type": "markdown",
   "metadata": {},
   "source": [
    "21\t2-Apr-2019\n"
   ]
  },
  {
   "cell_type": "markdown",
   "metadata": {},
   "source": [
    "22\t4-Apr-2019\n"
   ]
  },
  {
   "cell_type": "markdown",
   "metadata": {},
   "source": [
    "23\t9-Apr-2019\n"
   ]
  },
  {
   "cell_type": "markdown",
   "metadata": {},
   "source": [
    "24\t11-Apr-2019\n"
   ]
  },
  {
   "cell_type": "markdown",
   "metadata": {},
   "source": [
    "25\t16-Apr-2019\n"
   ]
  },
  {
   "cell_type": "markdown",
   "metadata": {},
   "source": [
    "26\t18-Apr-2019\n"
   ]
  },
  {
   "cell_type": "markdown",
   "metadata": {},
   "source": [
    "27\t23-Apr-2019\n"
   ]
  },
  {
   "cell_type": "markdown",
   "metadata": {},
   "source": [
    "28\t25-Apr-2019\n"
   ]
  },
  {
   "cell_type": "markdown",
   "metadata": {},
   "source": [
    "29\t30-Apr-2019\n"
   ]
  },
  {
   "cell_type": "markdown",
   "metadata": {},
   "source": [
    "30\t2-May-2019\n"
   ]
  },
  {
   "cell_type": "markdown",
   "metadata": {},
   "source": [
    "31\t7-May-2019\n"
   ]
  },
  {
   "cell_type": "markdown",
   "metadata": {},
   "source": [
    "32\t9-May-2019"
   ]
  },
  {
   "cell_type": "markdown",
   "metadata": {},
   "source": [
    "# Final Exam\n",
    "\n",
    "Date: 22-Jan-2019\n",
    "Time: 14:30 to 15:40\n",
    "Classroom: TH1017\n",
    "Instructor: Andres Patrignani\n",
    "\n"
   ]
  }
 ],
 "metadata": {
  "kernelspec": {
   "display_name": "Python 3",
   "language": "python",
   "name": "python3"
  },
  "language_info": {
   "codemirror_mode": {
    "name": "ipython",
    "version": 3
   },
   "file_extension": ".py",
   "mimetype": "text/x-python",
   "name": "python",
   "nbconvert_exporter": "python",
   "pygments_lexer": "ipython3",
   "version": "3.7.0"
  }
 },
 "nbformat": 4,
 "nbformat_minor": 2
}
