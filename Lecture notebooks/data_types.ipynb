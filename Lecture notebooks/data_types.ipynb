{
 "cells": [
  {
   "cell_type": "markdown",
   "metadata": {},
   "source": [
    "# Data types\n",
    "\n",
    "At first glance it may seem that commands such as `a = 4` and `a = 4.0` are the same, however, for the computer these statements represent two different data types. Let's explore the different ways in which we can store infromation in Python. We will visit different data type, but we will cover data structures in a different tutorial. Briefly, a data structure is the container of one or more data types. For instance, lists can store different datatypes such as strings, integers, and floats. See data type refers to each single element or item, while data structures refer to the container."
   ]
  },
  {
   "cell_type": "code",
   "execution_count": 1,
   "metadata": {},
   "outputs": [
    {
     "name": "stdout",
     "output_type": "stream",
     "text": [
      "8\n",
      "<class 'int'>\n"
     ]
    }
   ],
   "source": [
    "### Integers\n",
    "a = 8\n",
    "print(a)\n",
    "print(type(a)) # This is class int"
   ]
  },
  {
   "cell_type": "code",
   "execution_count": 2,
   "metadata": {},
   "outputs": [
    {
     "name": "stdout",
     "output_type": "stream",
     "text": [
      "2.71\n",
      "<class 'float'>\n"
     ]
    }
   ],
   "source": [
    "### Floating point\n",
    "b = 8.71\n",
    "print(b)\n",
    "print(type(b)) # This is class float (numbers with decimal places)"
   ]
  },
  {
   "cell_type": "code",
   "execution_count": 5,
   "metadata": {},
   "outputs": [
    {
     "name": "stdout",
     "output_type": "stream",
     "text": [
      "This is a string\n",
      "<class 'str'>\n",
      "<class 'str'>\n"
     ]
    }
   ],
   "source": [
    "### Strings\n",
    "\n",
    "# Strings are defined by apostrophes or quotation marks\n",
    "c = 'This is a string'\n",
    "d = \"This is another string\"\n",
    "print(c)\n",
    "print(type(c)) # This is class string (text)\n",
    "print(type(d))"
   ]
  },
  {
   "cell_type": "code",
   "execution_count": 5,
   "metadata": {},
   "outputs": [
    {
     "ename": "TypeError",
     "evalue": "unsupported operand type(s) for +: 'int' and 'str'",
     "output_type": "error",
     "traceback": [
      "\u001b[0;31m---------------------------------------------------------------------------\u001b[0m",
      "\u001b[0;31mTypeError\u001b[0m                                 Traceback (most recent call last)",
      "\u001b[0;32m<ipython-input-5-258441fbe6da>\u001b[0m in \u001b[0;36m<module>\u001b[0;34m()\u001b[0m\n\u001b[1;32m      2\u001b[0m \u001b[0mvar1\u001b[0m \u001b[0;34m=\u001b[0m \u001b[0;36m25\u001b[0m\u001b[0;34m\u001b[0m\u001b[0m\n\u001b[1;32m      3\u001b[0m \u001b[0mvar2\u001b[0m \u001b[0;34m=\u001b[0m \u001b[0;34m'3'\u001b[0m\u001b[0;34m\u001b[0m\u001b[0m\n\u001b[0;32m----> 4\u001b[0;31m \u001b[0mprint\u001b[0m\u001b[0;34m(\u001b[0m\u001b[0mvar1\u001b[0m \u001b[0;34m+\u001b[0m \u001b[0mvar2\u001b[0m\u001b[0;34m)\u001b[0m\u001b[0;34m\u001b[0m\u001b[0m\n\u001b[0m\u001b[1;32m      5\u001b[0m \u001b[0;34m\u001b[0m\u001b[0m\n\u001b[1;32m      6\u001b[0m \u001b[0;31m# We get an error: unsupported operand type(s) for +: 'int' and 'str'\u001b[0m\u001b[0;34m\u001b[0m\u001b[0;34m\u001b[0m\u001b[0m\n",
      "\u001b[0;31mTypeError\u001b[0m: unsupported operand type(s) for +: 'int' and 'str'"
     ]
    }
   ],
   "source": [
    "# What happens when we want to add an integer to a string?\n",
    "var1 = 25\n",
    "var2 = '3'\n",
    "print(var1 + var2)\n",
    "\n",
    "# We get an error: unsupported operand type(s) for +: 'int' and 'str'"
   ]
  },
  {
   "cell_type": "code",
   "execution_count": 6,
   "metadata": {},
   "outputs": [
    {
     "name": "stdout",
     "output_type": "stream",
     "text": [
      "28\n"
     ]
    }
   ],
   "source": [
    "# If we convert the string into an integer then the command will generate the right result.\n",
    "print(var1 + int(var2))"
   ]
  },
  {
   "cell_type": "code",
   "execution_count": 8,
   "metadata": {},
   "outputs": [
    {
     "name": "stdout",
     "output_type": "stream",
     "text": [
      "8\n",
      "<class 'str'>\n"
     ]
    }
   ],
   "source": [
    "### Integers to string\n",
    "print(type(a))         # Print data type before conversion\n",
    "my_string = str(a)     # Store converted string into a separate variable to avoid overwriting 'a'\n",
    "print(my_string)\n",
    "print(type(my_string)) \n",
    "\n",
    "# A one-line command:\n",
    "print(type(str(a))) \n"
   ]
  },
  {
   "cell_type": "code",
   "execution_count": 11,
   "metadata": {},
   "outputs": [
    {
     "name": "stdout",
     "output_type": "stream",
     "text": [
      "<class 'float'>\n",
      "<class 'str'>\n"
     ]
    }
   ],
   "source": [
    "### Floats to string\n",
    "print(type(b))       # Print data type before conversion\n",
    "print(type(str(b)))  # Print resulting data type "
   ]
  },
  {
   "cell_type": "code",
   "execution_count": 19,
   "metadata": {},
   "outputs": [
    {
     "name": "stdout",
     "output_type": "stream",
     "text": [
      "3.0\n",
      "<class 'float'>\n"
     ]
    },
    {
     "data": {
      "text/plain": [
       "True"
      ]
     },
     "execution_count": 19,
     "metadata": {},
     "output_type": "execute_result"
    }
   ],
   "source": [
    "### Strings to integers/floats\n",
    "my_float = float('3')\n",
    "print(my_float)\n",
    "print(type(my_float))\n",
    "\n",
    "# Check if string is numeric\n",
    "str.isnumeric('3')  # Returns True"
   ]
  },
  {
   "cell_type": "code",
   "execution_count": 16,
   "metadata": {},
   "outputs": [
    {
     "name": "stdout",
     "output_type": "stream",
     "text": [
      "<class 'float'>\n",
      "<class 'int'>\n"
     ]
    }
   ],
   "source": [
    "### Floats to integers\n",
    "my_int = 4.0\n",
    "print(type(my_int))\n",
    "print(type(int(my_int)))"
   ]
  },
  {
   "cell_type": "code",
   "execution_count": 17,
   "metadata": {},
   "outputs": [
    {
     "name": "stdout",
     "output_type": "stream",
     "text": [
      "2.5\n",
      "<class 'float'>\n"
     ]
    }
   ],
   "source": [
    "# Sometime Python will convert from one data type to another based a given operation\n",
    "a = 5 / 2  # Two integers\n",
    "print(a)\n",
    "print(type(a))   # Result is a float\n"
   ]
  },
  {
   "cell_type": "code",
   "execution_count": 1,
   "metadata": {},
   "outputs": [
    {
     "name": "stdout",
     "output_type": "stream",
     "text": [
      "<class 'list'>\n",
      "<class 'bool'>\n",
      "False\n"
     ]
    }
   ],
   "source": [
    "# Boolean (True or False)\n",
    "myBool = [True,True,False,True]\n",
    "print(type(myBool))\n",
    "print(type(myBool[0]))\n",
    "\n",
    "print('orange' == 'apple')"
   ]
  },
  {
   "cell_type": "code",
   "execution_count": 3,
   "metadata": {},
   "outputs": [
    {
     "name": "stdout",
     "output_type": "stream",
     "text": [
      "range(2, 8, 2)\n",
      "<class 'range'>\n"
     ]
    }
   ],
   "source": [
    "# Ranges\n",
    "# range(start,end,step) \n",
    "# Ranges will exclude the last number, so you need to go one extra value to include the last number\n",
    "# Ranges will also not display the sequence of numbers unless we force the range to be a list\n",
    "\n",
    "values = range(2,8,2) # Numbers from 2 to 6.\n",
    "print(values)\n",
    "print(type(values))\n",
    "print(list(values))"
   ]
  }
 ],
 "metadata": {
  "kernelspec": {
   "display_name": "Python 3",
   "language": "python",
   "name": "python3"
  },
  "language_info": {
   "codemirror_mode": {
    "name": "ipython",
    "version": 3
   },
   "file_extension": ".py",
   "mimetype": "text/x-python",
   "name": "python",
   "nbconvert_exporter": "python",
   "pygments_lexer": "ipython3",
   "version": "3.7.0"
  }
 },
 "nbformat": 4,
 "nbformat_minor": 2
}
