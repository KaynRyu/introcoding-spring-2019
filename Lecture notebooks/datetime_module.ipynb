{
 "cells": [
  {
   "cell_type": "markdown",
   "metadata": {},
   "source": [
    "# Datetime module\n",
    "\n",
    "Official docs: https://docs.python.org/3/library/datetime.html "
   ]
  },
  {
   "cell_type": "code",
   "execution_count": 2,
   "metadata": {},
   "outputs": [],
   "source": [
    "import datetime"
   ]
  },
  {
   "cell_type": "code",
   "execution_count": 31,
   "metadata": {},
   "outputs": [
    {
     "name": "stdout",
     "output_type": "stream",
     "text": [
      "2019-02-07 11:00:58.866927\n"
     ]
    }
   ],
   "source": [
    "# Get current date\n",
    "currentDate = datetime.datetime.now()\n",
    "print(currentDate)"
   ]
  },
  {
   "cell_type": "code",
   "execution_count": 5,
   "metadata": {},
   "outputs": [
    {
     "name": "stdout",
     "output_type": "stream",
     "text": [
      "7\n",
      "2019-02-07\n",
      "2\n",
      "28\n"
     ]
    }
   ],
   "source": [
    "# Specific component of the date (e.g. day, hour, day of the week, etc.)\n",
    "print(currentDate.day)\n",
    "print(currentDate.date())\n",
    "print(currentDate.month)\n",
    "print(currentDate.minute)"
   ]
  },
  {
   "cell_type": "code",
   "execution_count": 6,
   "metadata": {},
   "outputs": [
    {
     "name": "stdout",
     "output_type": "stream",
     "text": [
      "Feb\n",
      "February\n",
      "19\n",
      "2019\n",
      "07\n",
      "Thu Feb  7 10:28:58 2019\n",
      "02/07/19\n"
     ]
    }
   ],
   "source": [
    "# Format dates\n",
    "print(currentDate.strftime(\"%b\"))\n",
    "print(currentDate.strftime(\"%B\"))\n",
    "print(currentDate.strftime(\"%y\"))\n",
    "print(currentDate.strftime(\"%Y\"))\n",
    "print(currentDate.strftime(\"%d\"))\n",
    "print(currentDate.strftime(\"%c\"))\n",
    "print(currentDate.strftime(\"%x\"))\n",
    "\n",
    "# For more formats go to: https://www.w3schools.com/python/python_datetime.asp\n"
   ]
  },
  {
   "cell_type": "code",
   "execution_count": null,
   "metadata": {},
   "outputs": [],
   "source": [
    "# Build a date\n",
    "# datetime.datetime(year, month, day, hour, minute, second, microseconds)\n",
    "print(datetime.datetime(2018, 6, 1, 8, 0, 0, 5))"
   ]
  },
  {
   "cell_type": "code",
   "execution_count": 30,
   "metadata": {},
   "outputs": [
    {
     "name": "stdout",
     "output_type": "stream",
     "text": [
      "<class 'datetime.datetime'>\n",
      "<class 'datetime.timedelta'>\n",
      "21725908.340705\n",
      "21725908\n"
     ]
    }
   ],
   "source": [
    "# Arthmetic operations with dates\n",
    "\n",
    "date_start =datetime.datetime(2018, 6, 1)\n",
    "date_end = datetime.datetime.now()\n",
    "\n",
    "date_diff = date_end - date_start;\n",
    " \n",
    "print(type(date_start))  # Class datetime\n",
    "print(type(date_diff))   # Class timedelta\n",
    "\n",
    "# It's usually nice to work in seconds \n",
    "print(date_diff.total_seconds()) # Only for timedelta datatype \n",
    "print(math.floor(date_diff.total_seconds())) # Only for timedelta datatype "
   ]
  }
 ],
 "metadata": {
  "kernelspec": {
   "display_name": "Python 3",
   "language": "python",
   "name": "python3"
  },
  "language_info": {
   "codemirror_mode": {
    "name": "ipython",
    "version": 3
   },
   "file_extension": ".py",
   "mimetype": "text/x-python",
   "name": "python",
   "nbconvert_exporter": "python",
   "pygments_lexer": "ipython3",
   "version": "3.7.0"
  }
 },
 "nbformat": 4,
 "nbformat_minor": 2
}
