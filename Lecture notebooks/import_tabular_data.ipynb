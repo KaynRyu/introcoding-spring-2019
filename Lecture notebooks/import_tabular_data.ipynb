{
 "cells": [
  {
   "cell_type": "markdown",
   "metadata": {},
   "source": [
    "# Import tabular data\n",
    "\n",
    "Loading data is an essential step when using Python for scientific data analysis. In this tutorial we will cover three ways of importing data. This tutorial will not focus on how to access or analyze the data."
   ]
  },
  {
   "cell_type": "code",
   "execution_count": 22,
   "metadata": {},
   "outputs": [
    {
     "name": "stdout",
     "output_type": "stream",
     "text": [
      "/Users/andrespatrignani/Dropbox/Teaching/Scientific programming/introcoding-spring-2019/Datasets\n"
     ]
    }
   ],
   "source": [
    "import glob\n",
    "\n",
    "dataset_dir = '/Users/andrespatrignani/Dropbox/Teaching/Scientific programming/introcoding-spring-2019/Datasets/'\n",
    "glob.os.chdir(dataset_dir)\n",
    "print(glob.os.getcwd())\n"
   ]
  },
  {
   "cell_type": "code",
   "execution_count": 25,
   "metadata": {},
   "outputs": [
    {
     "name": "stdout",
     "output_type": "stream",
     "text": [
      "corn_allometric_biomass.csv\n",
      "fargo_hourly_deep_soil_temperature.csv\n",
      "global_wheat.csv\n",
      "gypsum_daily_2018.csv\n",
      "gypsum_hourly.csv\n",
      "mauna_loa_co2.csv\n",
      "mosquito_abundance.csv\n",
      "population_area_and_density.csv\n",
      "tribune_daily_historical.csv\n",
      "world_wheat.csv\n"
     ]
    }
   ],
   "source": [
    "# List files in directory\n",
    "\n",
    "# print(glob.os.listdir()) # Lists all files and returns a list \n",
    "for file in glob.glob('*.csv'): print(file) # Easier to list files with specific extensions"
   ]
  },
  {
   "cell_type": "markdown",
   "metadata": {},
   "source": [
    "## Using Pandas library"
   ]
  },
  {
   "cell_type": "code",
   "execution_count": 26,
   "metadata": {},
   "outputs": [
    {
     "data": {
      "text/html": [
       "<div>\n",
       "<style scoped>\n",
       "    .dataframe tbody tr th:only-of-type {\n",
       "        vertical-align: middle;\n",
       "    }\n",
       "\n",
       "    .dataframe tbody tr th {\n",
       "        vertical-align: top;\n",
       "    }\n",
       "\n",
       "    .dataframe thead th {\n",
       "        text-align: right;\n",
       "    }\n",
       "</style>\n",
       "<table border=\"1\" class=\"dataframe\">\n",
       "  <thead>\n",
       "    <tr style=\"text-align: right;\">\n",
       "      <th></th>\n",
       "      <th>Date</th>\n",
       "      <th>Tmax</th>\n",
       "      <th>Tmin</th>\n",
       "      <th>Precipitation</th>\n",
       "      <th>Snow</th>\n",
       "    </tr>\n",
       "  </thead>\n",
       "  <tbody>\n",
       "    <tr>\n",
       "      <th>0</th>\n",
       "      <td>01/01/1900</td>\n",
       "      <td>32</td>\n",
       "      <td>13</td>\n",
       "      <td>0.0</td>\n",
       "      <td>0.0</td>\n",
       "    </tr>\n",
       "    <tr>\n",
       "      <th>1</th>\n",
       "      <td>02/01/1900</td>\n",
       "      <td>44</td>\n",
       "      <td>14</td>\n",
       "      <td>0.0</td>\n",
       "      <td>0.0</td>\n",
       "    </tr>\n",
       "    <tr>\n",
       "      <th>2</th>\n",
       "      <td>03/01/1900</td>\n",
       "      <td>53</td>\n",
       "      <td>28</td>\n",
       "      <td>0.0</td>\n",
       "      <td>0.0</td>\n",
       "    </tr>\n",
       "    <tr>\n",
       "      <th>3</th>\n",
       "      <td>04/01/1900</td>\n",
       "      <td>51</td>\n",
       "      <td>24</td>\n",
       "      <td>0.0</td>\n",
       "      <td>0.0</td>\n",
       "    </tr>\n",
       "    <tr>\n",
       "      <th>4</th>\n",
       "      <td>05/01/1900</td>\n",
       "      <td>48</td>\n",
       "      <td>24</td>\n",
       "      <td>0.0</td>\n",
       "      <td>0.0</td>\n",
       "    </tr>\n",
       "    <tr>\n",
       "      <th>5</th>\n",
       "      <td>06/01/1900</td>\n",
       "      <td>52</td>\n",
       "      <td>26</td>\n",
       "      <td>0.0</td>\n",
       "      <td>0.0</td>\n",
       "    </tr>\n",
       "    <tr>\n",
       "      <th>6</th>\n",
       "      <td>07/01/1900</td>\n",
       "      <td>51</td>\n",
       "      <td>25</td>\n",
       "      <td>0.0</td>\n",
       "      <td>0.0</td>\n",
       "    </tr>\n",
       "    <tr>\n",
       "      <th>7</th>\n",
       "      <td>08/01/1900</td>\n",
       "      <td>54</td>\n",
       "      <td>28</td>\n",
       "      <td>0.0</td>\n",
       "      <td>0.0</td>\n",
       "    </tr>\n",
       "    <tr>\n",
       "      <th>8</th>\n",
       "      <td>09/01/1900</td>\n",
       "      <td>46</td>\n",
       "      <td>19</td>\n",
       "      <td>0.0</td>\n",
       "      <td>0.0</td>\n",
       "    </tr>\n",
       "    <tr>\n",
       "      <th>9</th>\n",
       "      <td>10/01/1900</td>\n",
       "      <td>50</td>\n",
       "      <td>19</td>\n",
       "      <td>0.0</td>\n",
       "      <td>0.0</td>\n",
       "    </tr>\n",
       "  </tbody>\n",
       "</table>\n",
       "</div>"
      ],
      "text/plain": [
       "         Date  Tmax  Tmin  Precipitation  Snow\n",
       "0  01/01/1900    32    13            0.0   0.0\n",
       "1  02/01/1900    44    14            0.0   0.0\n",
       "2  03/01/1900    53    28            0.0   0.0\n",
       "3  04/01/1900    51    24            0.0   0.0\n",
       "4  05/01/1900    48    24            0.0   0.0\n",
       "5  06/01/1900    52    26            0.0   0.0\n",
       "6  07/01/1900    51    25            0.0   0.0\n",
       "7  08/01/1900    54    28            0.0   0.0\n",
       "8  09/01/1900    46    19            0.0   0.0\n",
       "9  10/01/1900    50    19            0.0   0.0"
      ]
     },
     "execution_count": 26,
     "metadata": {},
     "output_type": "execute_result"
    }
   ],
   "source": [
    "import pandas as pd\n",
    "data = pd.read_csv('tribune_daily_historical.csv', sep=',')\n",
    "data.head(10)\n"
   ]
  },
  {
   "cell_type": "code",
   "execution_count": 27,
   "metadata": {},
   "outputs": [
    {
     "name": "stdout",
     "output_type": "stream",
     "text": [
      "['Albert Einstein' 'Werner Heisenberg' 'Marie Curie' 'Guglielmo Marconi'\n",
      " 'Peter Higgs' 'Enrico Fermi' 'Ernest Lawrence' 'Paul Dirac'\n",
      " 'Lord Rayleigh' 'Antoine Henri Becquerel' 'Wilhelm Conrad Röntgen'\n",
      " 'Hendrik Lorentz' 'Max Planck' 'Niels Bohr' 'Gustav Hertz'\n",
      " 'Werner Heisenberg' 'Erwin Schrödinger' 'Paul Dirac' 'Enrico Fermi'\n",
      " 'Hideki Yukawa' 'Richard Phillips Feynman']\n"
     ]
    }
   ],
   "source": [
    "import pandas as pd\n",
    "\n",
    "names_list = pd.read_csv('nobel_physics.txt', header=None, sep=',')\n",
    "names_list = names_list[0].values\n",
    "print(names_list)\n"
   ]
  },
  {
   "cell_type": "markdown",
   "metadata": {},
   "source": [
    "## Using the `open()` function\n",
    "\n",
    "`\"r\"` - Read - Default.\n",
    "\n",
    "`\"a\"` - Append\n",
    "\n",
    "`\"w\"` - Write\n",
    "\n",
    "`\"x\"` - Creates the specified file\n",
    "\n",
    "`\"t\"` - Text - Default\n",
    "\n",
    "`\"b\"` - Binary (e.g. images)\n",
    "\n",
    "Source: <https://www.w3schools.com/python/python_file_handling.asp>"
   ]
  },
  {
   "cell_type": "code",
   "execution_count": 31,
   "metadata": {},
   "outputs": [
    {
     "name": "stdout",
     "output_type": "stream",
     "text": [
      "Albert Einstein,\n",
      "Werner Heisenberg,\n",
      "Marie Curie,\n",
      "Guglielmo Marconi,\n",
      "Peter Higgs,\n",
      "Enrico Fermi,\n",
      "Ernest Lawrence,\n",
      "Paul Dirac,\n",
      "Lord Rayleigh,\n",
      "Antoine Henri Becquerel,\n",
      "Wilhelm Conrad Röntgen,\n",
      "Hendrik Lorentz,\n",
      "Max Planck,\n",
      "Niels Bohr,\n",
      "Gustav Hertz,\n",
      "Werner Heisenberg,\n",
      "Erwin Schrödinger,\n",
      "Paul Dirac,\n",
      "Enrico Fermi,\n",
      "Hideki Yukawa,\n",
      "Richard Phillips Feynman\n",
      "A\n"
     ]
    }
   ],
   "source": [
    "file = open('nobel_physics.txt','r')  # 'r' is the default, so you can just pass the filenmae\n",
    "names_list = file.read() # A single long string\n",
    "\n",
    "print(names_list)\n",
    "print(names_list[0])\n"
   ]
  },
  {
   "cell_type": "code",
   "execution_count": 40,
   "metadata": {},
   "outputs": [
    {
     "name": "stdout",
     "output_type": "stream",
     "text": [
      "['Albert Einstein,', 'Werner Heisenberg,', 'Marie Curie,', 'Guglielmo Marconi,', 'Peter Higgs,', 'Enrico Fermi,', 'Ernest Lawrence,', 'Paul Dirac,', 'Lord Rayleigh,', 'Antoine Henri Becquerel,', 'Wilhelm Conrad Röntgen,', 'Hendrik Lorentz,', 'Max Planck,', 'Niels Bohr,', 'Gustav Hertz,', 'Werner Heisenberg,', 'Erwin Schrödinger,', 'Paul Dirac,', 'Enrico Fermi,', 'Hideki Yukawa,', 'Richard Phillips Feynman']\n"
     ]
    }
   ],
   "source": [
    "names_list = open(filename).read().split('\\n')\n",
    "print(names_list)\n"
   ]
  },
  {
   "cell_type": "code",
   "execution_count": 42,
   "metadata": {},
   "outputs": [
    {
     "name": "stdout",
     "output_type": "stream",
     "text": [
      "['Albert Einstein,', 'Werner Heisenberg,', 'Marie Curie,', 'Guglielmo Marconi,', 'Peter Higgs,', 'Enrico Fermi,', 'Ernest Lawrence,', 'Paul Dirac,', 'Lord Rayleigh,', 'Antoine Henri Becquerel,', 'Wilhelm Conrad Röntgen,', 'Hendrik Lorentz,', 'Max Planck,', 'Niels Bohr,', 'Gustav Hertz,', 'Werner Heisenberg,', 'Erwin Schrödinger,', 'Paul Dirac,', 'Enrico Fermi,', 'Hideki Yukawa,', 'Richard Phillips Feynman']\n"
     ]
    }
   ],
   "source": [
    "# Using advanced list comprehensions\n",
    "names_list = [line.strip('\\n') for line in open(filename)]\n",
    "print(names_list)\n"
   ]
  },
  {
   "cell_type": "code",
   "execution_count": 43,
   "metadata": {},
   "outputs": [
    {
     "name": "stdout",
     "output_type": "stream",
     "text": [
      "’Twas brillig, and the slithy toves \n",
      "      Did gyre and gimble in the wabe: \n",
      "All mimsy were the borogoves, \n",
      "      And the mome raths outgrabe. \n",
      "\n",
      "“Beware the Jabberwock, my son! \n",
      "      The jaws that bite, the claws that catch! \n",
      "Beware the Jubjub bird, and shun \n",
      "      The frumious Bandersnatch!” \n",
      "\n",
      "He took his vorpal sword in hand; \n",
      "      Long time the manxome foe he sought— \n",
      "So rested he by the Tumtum tree \n",
      "      And stood awhile in thought. \n",
      "\n",
      "And, as in uffish thought he stood, \n",
      "      The Jabberwock, with eyes of flame, \n",
      "Came whiffling through the tulgey wood, \n",
      "      And burbled as it came! \n",
      "\n",
      "One, two! One, two! And through and through \n",
      "      The vorpal blade went snicker-snack! \n",
      "He left it dead, and with its head \n",
      "      He went galumphing back. \n",
      "\n",
      "“And hast thou slain the Jabberwock? \n",
      "      Come to my arms, my beamish boy! \n",
      "O frabjous day! Callooh! Callay!” \n",
      "      He chortled in his joy. \n",
      "\n",
      "’Twas brillig, and the slithy toves \n",
      "      Did gyre and gimble in the wabe: \n",
      "All mimsy were the borogoves, \n",
      "      And the mome raths outgrabe.\n"
     ]
    }
   ],
   "source": [
    "#Jabberwocky by Lewis Carroll\n",
    "\n",
    "# Read text files in Python is easy\n",
    "poem = open(\"jabberwocky_lewis_carroll.txt\", \"r\").read() \n",
    "print(poem)\n"
   ]
  },
  {
   "cell_type": "code",
   "execution_count": 16,
   "metadata": {},
   "outputs": [
    {
     "name": "stdout",
     "output_type": "stream",
     "text": [
      "Jabberwock appeared: 3 times\n"
     ]
    }
   ],
   "source": [
    "# String operations in large text files\n",
    "word_search = 'Jabberwock' \n",
    "wordcount = poem.count(word_search)\n",
    "print(word_search + ' appeared: ' + str(wordcount) + ' times')"
   ]
  }
 ],
 "metadata": {
  "kernelspec": {
   "display_name": "Python 3",
   "language": "python",
   "name": "python3"
  },
  "language_info": {
   "codemirror_mode": {
    "name": "ipython",
    "version": 3
   },
   "file_extension": ".py",
   "mimetype": "text/x-python",
   "name": "python",
   "nbconvert_exporter": "python",
   "pygments_lexer": "ipython3",
   "version": "3.7.0"
  }
 },
 "nbformat": 4,
 "nbformat_minor": 2
}
