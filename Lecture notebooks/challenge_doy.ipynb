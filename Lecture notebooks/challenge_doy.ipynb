{
 "cells": [
  {
   "cell_type": "markdown",
   "metadata": {},
   "source": [
    "# Challenge: Find the Day of the Year\n",
    "\n",
    "Assignment: Write a script that calculates the day of the year for the current date and time. The script must output both the DOY as an integer and the fraction of the day."
   ]
  },
  {
   "cell_type": "code",
   "execution_count": 8,
   "metadata": {},
   "outputs": [
    {
     "name": "stdout",
     "output_type": "stream",
     "text": [
      "0.5\n",
      "Day of the year: 0\n",
      "Fraction of the day: 0.5\n"
     ]
    }
   ],
   "source": [
    "import datetime\n",
    "import math\n",
    "\n",
    "\n",
    "current_date = datetime.datetime.now()\n",
    "current_date = datetime.datetime(2019,1,1,12) # Unmute this line to compute DOY for any date\n",
    "date_one = datetime.datetime(current_date.year,1,1)\n",
    "date_diff = current_date - date_one; # Operations between datetime objects result in datetime objects\n",
    "\n",
    "doy_float = date_diff.total_seconds()/86400 # gives the doy with decimal places\n",
    "doy_int = math.floor(doy_float) # found that total_seconds is a method from the error of dateDiff.total_seconds\n",
    "doy_fraction = doy_float - doy_int;\n",
    "\n",
    "print(doy_float)\n",
    "print('Day of the year: ' + str(doy_int))\n",
    "print('Fraction of the day: ' + str(round(doy_fraction,2)))\n"
   ]
  },
  {
   "cell_type": "markdown",
   "metadata": {},
   "source": [
    "## Important points\n",
    "\n",
    "- The key idea here was to realize that Day of the Year is defined using 1-jan as the baseline.\n",
    "- Avoid hard coding variables.\n",
    "- When working with date and time, using total seconds can make some operations way easier"
   ]
  },
  {
   "cell_type": "markdown",
   "metadata": {},
   "source": [
    "> **Note** that adding a unit in `doy_float` makes sense if you just want to know the DOY in integer format. In its current state, the code will return `DOY=1` for `1-jan`, which is what we expect.\n",
    "However, if we want the fraction of DOY to make sense, then we need to skip the summation of a unit. So, that `1-jan at noon` returns `0.5`. I would go with the first approach, since often times we just need the integer value between 1 and 365 (or 366 for leap years)."
   ]
  }
 ],
 "metadata": {
  "kernelspec": {
   "display_name": "Python 3",
   "language": "python",
   "name": "python3"
  },
  "language_info": {
   "codemirror_mode": {
    "name": "ipython",
    "version": 3
   },
   "file_extension": ".py",
   "mimetype": "text/x-python",
   "name": "python",
   "nbconvert_exporter": "python",
   "pygments_lexer": "ipython3",
   "version": "3.7.0"
  }
 },
 "nbformat": 4,
 "nbformat_minor": 2
}
