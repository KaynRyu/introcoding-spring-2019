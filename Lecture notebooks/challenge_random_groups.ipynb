{
 "cells": [
  {
   "cell_type": "markdown",
   "metadata": {},
   "source": [
    "# Challenge: Random Group Generator\n",
    "\n",
    "Create a Python script that generates a random list of people organized in `N` groups of `K` members. Use the list of names in the file named `'nobel_physics.txt'`\n",
    "\n",
    "## Submitting assignment\n",
    "\n",
    "**Option 1**. Upload the Jupyter Lab notebook directly using Canvas (preferred)\n",
    "\n",
    "**Option 2**. Send me the Jupyter Lab notebook via email (in case option 1 does not work)\n",
    "File name must be your first and last name, e.g. andrespatrignani.ipynb\n",
    " \n",
    "## Rules\n",
    "\n",
    "Code must create the specified number of groups with the specified number of members.\n",
    "If the total number of requested people exceeds the number of names in the database, the code must print a useful message and should not run any other line of code after that.\n",
    "If the number of groups or members is zero, the code must return a useful message and should not run any other line of code after that. We want to avoid running unnecessary code if we know in advance that groups or people will be equal to zero.\n",
    "People in groups must be unique, which means that a person cannot be part of two groups.\n",
    "Must use the modules learned in class. Other modules and advanced lines of code from online sources are not allowed.\n",
    "Maximum number lines of code is 30 (including comments and white lines)\n",
    " \n",
    "\n",
    "## Hint\n",
    "\n",
    ">You are not required to store the group number and members of each group in a list or dictionary. It's fine if you can make the code to print the names like I show in the example below.\n",
    "Combine an IF statement with nested FOR loops\n",
    "\n",
    ">If your list contains duplicate names you could always use the set function to get unique values. For instance, given the following list: `names = ['Joe','Mark','Trent','Mark']`, then `list(set(names))` will result in: `['Trent', 'Mark', 'Joe']`\n",
    " \n",
    "\n",
    "## Example\n",
    "\n",
    "Given the following input variables:\n",
    "\n",
    "```python\n",
    "n_groups = 3\n",
    "k_members = 4 \n",
    "```\n",
    "\n",
    "the code must print the following:\n",
    "\n",
    "```\n",
    "Group 1: Albert Einstein\n",
    "Group 1: Hendrik Lorentz\n",
    "Group 1: Enrico Fermi\n",
    "Group 1: Peter Higgs\n",
    "Group 2: Richard Phillips Feynman\n",
    "Group 2: Niels Bohr\n",
    "Group 2: Antoine Henri Becquerel\n",
    "Group 2: Gustav Hertz\n",
    "Group 3: Ernest Lawrence\n",
    "Group 3: Wilhelm Conrad Röntgen\n",
    "Group 3: Paul Dirac\n",
    "Group 3: Erwin Schrödinger\n",
    "```\n",
    "\n",
    "Note that the actual names returned by your code will differ from mine since this is a random process. The code printed only the names selected at random from the database. Some names will not be selected and this will depend on the total number of names requested by the user.\n",
    "\n",
    "## Skills required in this challenge\n",
    "\n",
    "- if statements\n",
    "- for loops\n",
    "- random module\n",
    "- range function\n",
    "- appending and deleting items from a list\n"
   ]
  },
  {
   "cell_type": "markdown",
   "metadata": {},
   "source": [
    "## Solution 1\n",
    "This solution simply selects a random name, removes the name from the list, and prints the name"
   ]
  },
  {
   "cell_type": "code",
   "execution_count": 70,
   "metadata": {},
   "outputs": [
    {
     "name": "stdout",
     "output_type": "stream",
     "text": [
      "Group 1: Albert Einstein\n",
      "Group 1: Richard Phillips Feynman\n",
      "Group 1: Lord Rayleigh\n",
      "Group 1: Hendrik Lorentz\n",
      "Group 2: Marie Curie\n",
      "Group 2: Enrico Fermi\n",
      "Group 2: Niels Bohr\n",
      "Group 2: Guglielmo Marconi\n",
      "Group 3: Antoine Henri Becquerel\n",
      "Group 3: Gustav Hertz\n",
      "Group 3: Hideki Yukawa\n",
      "Group 3: Werner Heisenberg\n"
     ]
    }
   ],
   "source": [
    "import glob\n",
    "import random\n",
    "\n",
    "dataset_dir = '/Users/andrespatrignani/Dropbox/Teaching/Scientific programming/introcoding-spring-2019/Datasets/'\n",
    "glob.os.chdir(dataset_dir) # Navigate to Datasets directory\n",
    "names_list = open('nobel_physics.txt').read().split('\\n') # Load data\n",
    "\n",
    "n_groups = 3  # Define number of groups\n",
    "k_members = 4 # Define number of members per group\n",
    "total_people = n_groups*k_members\n",
    "\n",
    "if total_people > len(names_list):\n",
    "    print(\"There are fewer people in the database than those requested\")\n",
    "\n",
    "elif total_people == 0:\n",
    "    print('Number of groups and number of memebrs per group cannot be zero')\n",
    "    \n",
    "else:\n",
    "    for i in range(0,n_groups):\n",
    "        for j in range(0,k_members):\n",
    "            rand_index = random.randint(0,len(names_list)-1) # Need to add -1 to avoid indexing out of range\n",
    "            rand_person = names_list[rand_index].split(',')[0]\n",
    "            print('Group ' + str(i + 1) + ':', rand_person)\n",
    "            names_list.remove(rand_index)\n",
    "            "
   ]
  },
  {
   "cell_type": "markdown",
   "metadata": {},
   "source": [
    "## Solution 2\n",
    "This solution is similar to solution 1, but it stores the names into a dcitionary and makes use of the pretty print module for a nices display."
   ]
  },
  {
   "cell_type": "code",
   "execution_count": 73,
   "metadata": {},
   "outputs": [
    {
     "name": "stdout",
     "output_type": "stream",
     "text": [
      "{'G1': ['Antoine Henri Becquerel',\n",
      "        'Paul Dirac',\n",
      "        'Albert Einstein',\n",
      "        'Hideki Yukawa'],\n",
      " 'G2': ['Richard Phillips Feynman',\n",
      "        'Max Planck',\n",
      "        'Ernest Lawrence',\n",
      "        'Wilhelm Conrad Röntgen'],\n",
      " 'G3': ['Gustav Hertz', 'Marie Curie', 'Enrico Fermi', 'Hendrik Lorentz']}\n"
     ]
    }
   ],
   "source": [
    "import random\n",
    "import pprint\n",
    "\n",
    "dataset_dir = '/Users/andrespatrignani/Dropbox/Teaching/Scientific programming/introcoding-spring-2019/Datasets/'\n",
    "glob.os.chdir(dataset_dir) # Navigate to Datasets directory\n",
    "names_list = open('nobel_physics.txt').read().split('\\n') # Load data\n",
    "\n",
    "ngroups = 3\n",
    "npeople = 4\n",
    "total_people = n_groups*k_members\n",
    "result = {} # Initialize an empty dictionary\n",
    "\n",
    "if total_people > len(names_list):\n",
    "    print(\"There are fewer people in the database than those requested\")\n",
    "    \n",
    "elif total_people == 0:\n",
    "    print('Number of groups and number of memebrs per group cannot be zero')\n",
    "    \n",
    "else:\n",
    "    for i in range(0,ngroups):\n",
    "        group_name = 'G' + str(i+1)\n",
    "        group_list = []\n",
    "        for j in range(0,npeople):\n",
    "            rand_index = random.randint(0,len(names_list)-1) # Need to add -1 to avoid indexing out of range\n",
    "            rand_person = names_list[rand_index].split(',')[0]\n",
    "            group_list.append(rand_person)\n",
    "            names_list.pop(rand_index)\n",
    "\n",
    "        result[group_name] = group_list\n",
    "        \n",
    "pprint.pprint(result)\n"
   ]
  },
  {
   "cell_type": "markdown",
   "metadata": {},
   "source": [
    "## Solution 3\n",
    "Uses sampling without replacement to select all the names at once."
   ]
  },
  {
   "cell_type": "code",
   "execution_count": 66,
   "metadata": {},
   "outputs": [
    {
     "name": "stdout",
     "output_type": "stream",
     "text": [
      "Group 1 : Wilhelm Conrad Röntgen,\n",
      "Group 1 : Albert Einstein,\n",
      "Group 1 : Hideki Yukawa,\n",
      "Group 1 : Erwin Schrödinger,\n",
      "Group 2 : Enrico Fermi,\n",
      "Group 2 : Richard Phillips Feynman\n",
      "Group 2 : Max Planck,\n",
      "Group 2 : Guglielmo Marconi,\n",
      "Group 3 : Lord Rayleigh,\n",
      "Group 3 : Gustav Hertz,\n",
      "Group 3 : Antoine Henri Becquerel,\n",
      "Group 3 : Peter Higgs,\n"
     ]
    }
   ],
   "source": [
    "# A version using random.sample\n",
    "import glob\n",
    "import random\n",
    "\n",
    "# Navigate to Datasets directory\n",
    "dataset_dir = '/Users/andrespatrignani/Dropbox/Teaching/Scientific programming/introcoding-spring-2019/Datasets/'\n",
    "glob.os.chdir(dataset_dir)\n",
    "\n",
    "# Load data\n",
    "names_list = open('nobel_physics.txt').read().split('\\n') \n",
    "\n",
    "# Define inputs\n",
    "n_groups = 3\n",
    "k_members = 4\n",
    "\n",
    "# Select unique random names from list\n",
    "total_people = n_groups*k_members\n",
    "if total_people > len(names_list):\n",
    "    print(\"There are fewer people in the database than those requested\")\n",
    "elif total_people <= 0:\n",
    "    print('Number of groups and number of memebrs per group cannot be zero')\n",
    "else: \n",
    "    random_names = random.sample(names_list, k=total_people)\n",
    "\n",
    "# Print names and assign a group\n",
    "counter = 0  # Initialize the counter\n",
    "for i in range(1,n_groups+1):\n",
    "    for j in range(1,k_members+1):\n",
    "        print('Group',i,':',random_names[counter])\n",
    "        counter = counter + 1  # Add one unit to the counter before starting next iteration\n"
   ]
  }
 ],
 "metadata": {
  "kernelspec": {
   "display_name": "Python 3",
   "language": "python",
   "name": "python3"
  },
  "language_info": {
   "codemirror_mode": {
    "name": "ipython",
    "version": 3
   },
   "file_extension": ".py",
   "mimetype": "text/x-python",
   "name": "python",
   "nbconvert_exporter": "python",
   "pygments_lexer": "ipython3",
   "version": "3.7.0"
  }
 },
 "nbformat": 4,
 "nbformat_minor": 2
}
