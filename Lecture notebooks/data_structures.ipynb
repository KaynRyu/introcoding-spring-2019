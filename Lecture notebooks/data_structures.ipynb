{
 "cells": [
  {
   "cell_type": "markdown",
   "metadata": {},
   "source": [
    "# Data Structures\n",
    "\n",
    "This notebook introduces differen data structures (containers) in which we can store information in Python. Many times the same information can be stored in more than one data structure. The choice of the right data structure will depend on the application and, to a great extent, on your experience and coding preferences."
   ]
  },
  {
   "cell_type": "markdown",
   "metadata": {},
   "source": [
    "## Lists"
   ]
  },
  {
   "cell_type": "code",
   "execution_count": 3,
   "metadata": {},
   "outputs": [
    {
     "name": "stdout",
     "output_type": "stream",
     "text": [
      "[1, 2, 3]\n"
     ]
    },
    {
     "data": {
      "text/plain": [
       "list"
      ]
     },
     "execution_count": 3,
     "metadata": {},
     "output_type": "execute_result"
    }
   ],
   "source": [
    "# Lists (also known as arrays, they are mutable)\n",
    "\n",
    "mylist = [1,2,3]  # A row vector\n",
    "print(mylist)\n",
    "type(mylist)\n",
    "\n",
    "# What happens if you replace one of the list elements above by another element?\n",
    "# Can you mix words with numbers?\n",
    "# Can you nest multiple lists?"
   ]
  },
  {
   "cell_type": "code",
   "execution_count": 24,
   "metadata": {},
   "outputs": [],
   "source": [
    "# Lists are mutable, we can re-define them\n",
    "mylist = [2000,2001,2002]"
   ]
  },
  {
   "cell_type": "code",
   "execution_count": 34,
   "metadata": {},
   "outputs": [
    {
     "name": "stdout",
     "output_type": "stream",
     "text": [
      "2000\n",
      "['apple', 'orange']\n",
      "apple\n"
     ]
    }
   ],
   "source": [
    "# Lists can be nested\n",
    "mylist = [2000,2001,2002,2003,['apple','orange']]\n",
    "print(mylist[0])\n",
    "print(mylist[4])\n",
    "print(mylist[4][0])"
   ]
  },
  {
   "cell_type": "code",
   "execution_count": null,
   "metadata": {},
   "outputs": [],
   "source": [
    "# Copy and save part of the list in a different variable\n",
    "fruits = myList[4]\n",
    "print(fruits[0])"
   ]
  },
  {
   "cell_type": "code",
   "execution_count": 41,
   "metadata": {},
   "outputs": [
    {
     "name": "stdout",
     "output_type": "stream",
     "text": [
      "1\n"
     ]
    },
    {
     "data": {
      "text/plain": [
       "[2000, 2001, 2002, 2003, ['apple', 'orange'], [2003, 2004]]"
      ]
     },
     "execution_count": 41,
     "metadata": {},
     "output_type": "execute_result"
    }
   ],
   "source": [
    "# List methods\n",
    "print(mylist.count(2000)) # Count specific element. Takes only one argument\n",
    "mylist.index(2001) \n",
    "mylist.append([2003,2004])\n",
    "print(mylist)"
   ]
  },
  {
   "cell_type": "code",
   "execution_count": 45,
   "metadata": {},
   "outputs": [
    {
     "data": {
      "text/plain": [
       "1"
      ]
     },
     "execution_count": 45,
     "metadata": {},
     "output_type": "execute_result"
    }
   ],
   "source": [
    "# Will this work?\n",
    "mylist.count('apple')\n",
    "\n",
    "# Solution: mylist[4].count('apple')"
   ]
  },
  {
   "cell_type": "code",
   "execution_count": 31,
   "metadata": {},
   "outputs": [
    {
     "name": "stdout",
     "output_type": "stream",
     "text": [
      "[]\n"
     ]
    }
   ],
   "source": [
    "# Clear list and check that list was cleared (it should print empty brackets)\n",
    "mylist.clear()\n",
    "print(mylist)"
   ]
  },
  {
   "cell_type": "code",
   "execution_count": 17,
   "metadata": {},
   "outputs": [
    {
     "name": "stdout",
     "output_type": "stream",
     "text": [
      "[[1, 4, 5], [-5, 8, 9]]\n"
     ]
    }
   ],
   "source": [
    "# Creating a matrix or 2D array\n",
    "M = [[1, 4, 5],\n",
    "    [-5, 8, 9]]\n",
    "print(M)"
   ]
  },
  {
   "cell_type": "code",
   "execution_count": 6,
   "metadata": {},
   "outputs": [
    {
     "data": {
      "text/plain": [
       "'a'"
      ]
     },
     "execution_count": 6,
     "metadata": {},
     "output_type": "execute_result"
    }
   ],
   "source": [
    "# Here is a more challenging example:\n",
    "B = [ [1,2,3], [4,5,6, ['a','b','c']]]\n",
    "\n",
    "B[1][3][0]  # returns the letter 'a'"
   ]
  },
  {
   "cell_type": "markdown",
   "metadata": {},
   "source": [
    "## Tuples"
   ]
  },
  {
   "cell_type": "code",
   "execution_count": 3,
   "metadata": {},
   "outputs": [
    {
     "ename": "TypeError",
     "evalue": "'tuple' object does not support item assignment",
     "output_type": "error",
     "traceback": [
      "\u001b[0;31m---------------------------------------------------------------------------\u001b[0m",
      "\u001b[0;31mTypeError\u001b[0m                                 Traceback (most recent call last)",
      "\u001b[0;32m<ipython-input-3-8b995db9af43>\u001b[0m in \u001b[0;36m<module>\u001b[0;34m()\u001b[0m\n\u001b[1;32m      3\u001b[0m \u001b[0mtype\u001b[0m\u001b[0;34m(\u001b[0m\u001b[0mmytuple\u001b[0m\u001b[0;34m)\u001b[0m\u001b[0;34m\u001b[0m\u001b[0m\n\u001b[1;32m      4\u001b[0m \u001b[0;34m\u001b[0m\u001b[0m\n\u001b[0;32m----> 5\u001b[0;31m \u001b[0mmytuple\u001b[0m\u001b[0;34m[\u001b[0m\u001b[0;36m0\u001b[0m\u001b[0;34m]\u001b[0m \u001b[0;34m=\u001b[0m \u001b[0;36m11\u001b[0m\u001b[0;34m;\u001b[0m \u001b[0;31m# This will throw an error. We can't change the value of a tuple (immutable).\u001b[0m\u001b[0;34m\u001b[0m\u001b[0m\n\u001b[0m",
      "\u001b[0;31mTypeError\u001b[0m: 'tuple' object does not support item assignment"
     ]
    }
   ],
   "source": [
    "# Tuples (immutable)\n",
    "mytuple = (1,2,3)\n",
    "type(mytuple)\n",
    "\n",
    "mytuple[0] = 11; # This will throw an error. We can't change the value of a tuple (immutable)."
   ]
  },
  {
   "cell_type": "markdown",
   "metadata": {},
   "source": [
    "## Dictionaries"
   ]
  },
  {
   "cell_type": "code",
   "execution_count": 6,
   "metadata": {},
   "outputs": [
    {
     "name": "stdout",
     "output_type": "stream",
     "text": [
      "{'country': ['Argentina', 'Brazil', 'Uruguay', 'USA'], 'capital': ['Buenos Aires', 'Brasilia', 'Montevideo', 'Washington D.C.'], 'airTemp': [28, 12, 14, 35]}\n",
      "['Argentina', 'Brazil', 'Uruguay', 'USA']\n",
      "35\n",
      "My country is ['Argentina', 'Brazil', 'Uruguay', 'USA'] and the capital is Buenos Aires\n"
     ]
    }
   ],
   "source": [
    "# A dictionary (key:value pairs, similar to JSON)\n",
    "myDict = {'country': ['Argentina','Brazil','Uruguay','USA'], \n",
    "          'capital': ['Buenos Aires','Brasilia','Montevideo','Washington D.C.'],\n",
    "          'airTemp': [28, 12, 14, 35,]}\n",
    "\n",
    "print(myDict)\n",
    "print(myDict['country'])\n",
    "print(myDict['airTemp'][3])\n",
    "type(myDict)\n",
    "print(\"My country is\",myDict['country'],\"and the capital is\",myDict['capital'][0])"
   ]
  },
  {
   "cell_type": "code",
   "execution_count": 5,
   "metadata": {},
   "outputs": [
    {
     "name": "stdout",
     "output_type": "stream",
     "text": [
      "-0.13\n",
      "4.1\n",
      "4.1\n",
      "4.1\n"
     ]
    }
   ],
   "source": [
    "# Here is a more concrete example using actual weather data obtained from OpenWeatherMap:\n",
    "\n",
    "data = {\"coord\":{\"lon\":-0.13,\"lat\":51.51},\n",
    "        \"weather\":[{\"description\":\"light intensity drizzle\"}],\n",
    "        \"base\":\"stations\",\n",
    "        \"main\":{\"temp\":280.32,\"pressure\":1012,\"humidity\":81},\n",
    "        \"visibility\":10000,\n",
    "        \"wind\":{\"speed\":4.1,\"deg\":80},\n",
    "        \"clouds\":{\"all\":90},\n",
    "        \"dt\":1485789600,\n",
    "        \"sys\":{\"country\":\"GB\",\"sunrise\":1485762037},\n",
    "        \"id\":2643743,\n",
    "        \"name\":\"London\",\n",
    "        \"cod\":200}\n",
    "\n",
    "print(data['coord']['lon'])\n",
    "print(data['wind']['speed']) # Using apostrophes\n",
    "print(data[\"wind\"][\"speed\"]) # Using quotation marks\n",
    "print(data['wind'][\"speed\"]) # Using a combination of both (not recommended, but it works)\n"
   ]
  },
  {
   "cell_type": "markdown",
   "metadata": {},
   "source": [
    "## Sets"
   ]
  },
  {
   "cell_type": "code",
   "execution_count": 45,
   "metadata": {},
   "outputs": [
    {
     "name": "stdout",
     "output_type": "stream",
     "text": [
      "{'California', 'Kansas', 'Texas', 'Alaska'}\n",
      "True\n",
      "False\n"
     ]
    }
   ],
   "source": [
    "# Sets (set of unique values, test membership)\n",
    "\n",
    "states = ['Kansas', 'Texas', 'California', 'Texas', 'Alaska', 'Kansas']\n",
    "uniqueStates = set(states) # \n",
    "print(uniqueStates)\n",
    "\n",
    "print('Kansas' in uniqueStates) # Testing membership (True)\n",
    "print('Iowa' in uniqueStates)   # Testing membership (False)"
   ]
  },
  {
   "cell_type": "code",
   "execution_count": 1,
   "metadata": {},
   "outputs": [
    {
     "name": "stdout",
     "output_type": "stream",
     "text": [
      "{'G', 'T', 'A'}\n",
      "{'G', 'C', 'T', 'A'}\n"
     ]
    },
    {
     "data": {
      "text/plain": [
       "{'C'}"
      ]
     },
     "execution_count": 1,
     "metadata": {},
     "output_type": "execute_result"
    }
   ],
   "source": [
    "dna1 = set('ATTTGAATTA') # DNA sequence 1\n",
    "dna2 = set('GGATTCGCGT') # DNA sequence 2\n",
    "\n",
    "# Print unique bases in each DNA sequence\n",
    "print(dna1)\n",
    "print(dna2)\n",
    "\n",
    "dna1 - dna2   # bases in dna1 BUT NOT in dna2\n",
    "dna1 | dna2   # bases in dna1 OR in dna2\n",
    "dna1 & dna2   # bases in dna1 AND in dna2\n",
    "dna1 ^ dna2   # bases in dna1 OR dna2, BUT NOT BOTH"
   ]
  }
 ],
 "metadata": {
  "kernelspec": {
   "display_name": "Python 3",
   "language": "python",
   "name": "python3"
  },
  "language_info": {
   "codemirror_mode": {
    "name": "ipython",
    "version": 3
   },
   "file_extension": ".py",
   "mimetype": "text/x-python",
   "name": "python",
   "nbconvert_exporter": "python",
   "pygments_lexer": "ipython3",
   "version": "3.7.0"
  }
 },
 "nbformat": 4,
 "nbformat_minor": 2
}
