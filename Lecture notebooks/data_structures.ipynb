{
 "cells": [
  {
   "cell_type": "markdown",
   "metadata": {},
   "source": [
    "# Data Structures\n",
    "\n",
    "This notebook introduces differen data structures (containers) in which we can store information in Python. Many times the same information can be stored in more than one data structure. The choice of the right data structure will depend on the application and, to a great extent, on your experience and coding preferences."
   ]
  },
  {
   "cell_type": "code",
   "execution_count": 3,
   "metadata": {},
   "outputs": [
    {
     "name": "stdout",
     "output_type": "stream",
     "text": [
      "[1, 2, 3]\n"
     ]
    },
    {
     "data": {
      "text/plain": [
       "list"
      ]
     },
     "execution_count": 3,
     "metadata": {},
     "output_type": "execute_result"
    }
   ],
   "source": [
    "# Lists (also known as arrays, they are mutable)\n",
    "\n",
    "mylist = [1,2,3]  # A row vector\n",
    "print(mylist)\n",
    "type(mylist)\n",
    "\n",
    "# What happens if you replace one of the list elements above by another element?\n",
    "# Can you mix words with numbers?\n",
    "# Can you nest multiple lists?"
   ]
  },
  {
   "cell_type": "code",
   "execution_count": 24,
   "metadata": {},
   "outputs": [],
   "source": [
    "# Lists are mutable, we can re-define them\n",
    "mylist = [2000,2001,2002]"
   ]
  },
  {
   "cell_type": "code",
   "execution_count": 34,
   "metadata": {},
   "outputs": [
    {
     "name": "stdout",
     "output_type": "stream",
     "text": [
      "2000\n",
      "['apple', 'orange']\n",
      "apple\n"
     ]
    }
   ],
   "source": [
    "# Lists can be nested\n",
    "mylist = [2000,2001,2002,2003,['apple','orange']]\n",
    "print(mylist[0])\n",
    "print(mylist[4])\n",
    "print(mylist[4][0])"
   ]
  },
  {
   "cell_type": "code",
   "execution_count": null,
   "metadata": {},
   "outputs": [],
   "source": [
    "# Copy and save part of the list in a different variable\n",
    "fruits = myList[4]\n",
    "print(fruits[0])"
   ]
  },
  {
   "cell_type": "code",
   "execution_count": 41,
   "metadata": {},
   "outputs": [
    {
     "name": "stdout",
     "output_type": "stream",
     "text": [
      "1\n"
     ]
    },
    {
     "data": {
      "text/plain": [
       "[2000, 2001, 2002, 2003, ['apple', 'orange'], [2003, 2004]]"
      ]
     },
     "execution_count": 41,
     "metadata": {},
     "output_type": "execute_result"
    }
   ],
   "source": [
    "# List methods\n",
    "print(mylist.count(2000)) # Count specific element. Takes only one argument\n",
    "mylist.index(2001) \n",
    "mylist.append([2003,2004])\n",
    "print(mylist)"
   ]
  },
  {
   "cell_type": "code",
   "execution_count": 45,
   "metadata": {},
   "outputs": [
    {
     "data": {
      "text/plain": [
       "1"
      ]
     },
     "execution_count": 45,
     "metadata": {},
     "output_type": "execute_result"
    }
   ],
   "source": [
    "# Will this work?\n",
    "mylist.count('apple')\n",
    "\n",
    "# Solution: mylist[4].count('apple')"
   ]
  },
  {
   "cell_type": "code",
   "execution_count": 31,
   "metadata": {},
   "outputs": [
    {
     "name": "stdout",
     "output_type": "stream",
     "text": [
      "[]\n"
     ]
    }
   ],
   "source": [
    "# Clear list and check that list was cleared (it should print empty brackets)\n",
    "mylist.clear()\n",
    "print(mylist)"
   ]
  },
  {
   "cell_type": "code",
   "execution_count": 17,
   "metadata": {},
   "outputs": [
    {
     "name": "stdout",
     "output_type": "stream",
     "text": [
      "[[1, 4, 5], [-5, 8, 9]]\n"
     ]
    }
   ],
   "source": [
    "# Creating a matrix or 2D array\n",
    "M = [[1, 4, 5],\n",
    "    [-5, 8, 9]]\n",
    "print(M)"
   ]
  },
  {
   "cell_type": "code",
   "execution_count": 23,
   "metadata": {},
   "outputs": [
    {
     "name": "stdout",
     "output_type": "stream",
     "text": [
      "<class 'str'>\n",
      "<class 'list'>\n"
     ]
    },
    {
     "data": {
      "text/plain": [
       "['t', 'h', 'o', 'n']"
      ]
     },
     "execution_count": 23,
     "metadata": {},
     "output_type": "execute_result"
    }
   ],
   "source": [
    "# Slicing\n",
    "# Source: https://stackoverflow.com/questions/509211/understanding-slice-notation\n",
    "\n",
    "#                +---+---+---+---+---+---+\n",
    "#                 | P | y | t | h | o | n |\n",
    "#                 +---+---+---+---+---+---+\n",
    "# Slice position: 0   1   2   3   4   5   6\n",
    "# Index position:   0   1   2   3   4   5\n",
    "\n",
    "# sliceable[start:stop:step]\n",
    "\n",
    "# Definitions\n",
    "# start: the beginning index of the slice, it will include the element at this index unless \n",
    "# it is the same as stop, defaults to 0, i.e. the first index. If it's negative, it means to \n",
    "# start n items from the end.\n",
    "\n",
    "# stop: the ending index of the slice, it does not include the element at this index, \n",
    "# defaults to length of the sequence being sliced, that is, up to and including the end.\n",
    "\n",
    "# step: the amount by which the index increases, defaults to 1. \n",
    "# If it's negative, you're slicing over the iterable in reverse.\n",
    "\n",
    "p = ['P','y','t','h','o','n']\n",
    "\n",
    "# Why the two sets of numbers:\n",
    "# indexing gives items, not lists\n",
    "p[0]\n",
    "p[5]\n",
    "print(type(p[5]))\n",
    "\n",
    "# Slicing gives lists\n",
    "p[0:1]\n",
    "p[0:2]\n",
    "print(type(p[0:2]))\n",
    "\n",
    "# Get last 3 letters\n",
    "print(p[-3:]) # This means: \"3rd from the end, to the end.\"\n",
    "\n",
    "# Technically this is what is going on behind the Python interpreter\n",
    "# sliceable[start:stop:step]\n",
    "print(p[-3:len(p):1])\n",
    "\n",
    "# The colon is what tells Python you're giving it a slice and not a regular index. \n",
    "\n",
    "# \n",
    "print(p[-3:-1]) # This will not return the last element. You can use -1 for indexing. \n",
    "# Since this is a slicing operation we need to use the : operator\n"
   ]
  },
  {
   "cell_type": "code",
   "execution_count": 3,
   "metadata": {},
   "outputs": [
    {
     "ename": "TypeError",
     "evalue": "'tuple' object does not support item assignment",
     "output_type": "error",
     "traceback": [
      "\u001b[0;31m---------------------------------------------------------------------------\u001b[0m",
      "\u001b[0;31mTypeError\u001b[0m                                 Traceback (most recent call last)",
      "\u001b[0;32m<ipython-input-3-8b995db9af43>\u001b[0m in \u001b[0;36m<module>\u001b[0;34m()\u001b[0m\n\u001b[1;32m      3\u001b[0m \u001b[0mtype\u001b[0m\u001b[0;34m(\u001b[0m\u001b[0mmytuple\u001b[0m\u001b[0;34m)\u001b[0m\u001b[0;34m\u001b[0m\u001b[0m\n\u001b[1;32m      4\u001b[0m \u001b[0;34m\u001b[0m\u001b[0m\n\u001b[0;32m----> 5\u001b[0;31m \u001b[0mmytuple\u001b[0m\u001b[0;34m[\u001b[0m\u001b[0;36m0\u001b[0m\u001b[0;34m]\u001b[0m \u001b[0;34m=\u001b[0m \u001b[0;36m11\u001b[0m\u001b[0;34m;\u001b[0m \u001b[0;31m# This will throw an error. We can't change the value of a tuple (immutable).\u001b[0m\u001b[0;34m\u001b[0m\u001b[0m\n\u001b[0m",
      "\u001b[0;31mTypeError\u001b[0m: 'tuple' object does not support item assignment"
     ]
    }
   ],
   "source": [
    "# Tuples (immutable)\n",
    "mytuple = (1,2,3)\n",
    "type(mytuple)\n",
    "\n",
    "mytuple[0] = 11; # This will throw an error. We can't change the value of a tuple (immutable)."
   ]
  },
  {
   "cell_type": "code",
   "execution_count": 6,
   "metadata": {},
   "outputs": [
    {
     "name": "stdout",
     "output_type": "stream",
     "text": [
      "{'country': ['Argentina', 'Brazil', 'Uruguay', 'USA'], 'capital': ['Buenos Aires', 'Brasilia', 'Montevideo', 'Washington D.C.'], 'airTemp': [28, 12, 14, 35]}\n",
      "['Argentina', 'Brazil', 'Uruguay', 'USA']\n",
      "35\n",
      "My country is ['Argentina', 'Brazil', 'Uruguay', 'USA'] and the capital is Buenos Aires\n"
     ]
    }
   ],
   "source": [
    "# A dictionary (key:value pairs, similar to JSON)\n",
    "myDict = {'country': ['Argentina','Brazil','Uruguay','USA'], \n",
    "          'capital': ['Buenos Aires','Brasilia','Montevideo','Washington D.C.'],\n",
    "          'airTemp': [28, 12, 14, 35,]}\n",
    "\n",
    "print(myDict)\n",
    "print(myDict['country'])\n",
    "print(myDict['airTemp'][3])\n",
    "type(myDict)\n",
    "print(\"My country is\",myDict['country'],\"and the capital is\",myDict['capital'][0])"
   ]
  },
  {
   "cell_type": "code",
   "execution_count": 45,
   "metadata": {},
   "outputs": [
    {
     "name": "stdout",
     "output_type": "stream",
     "text": [
      "{'California', 'Kansas', 'Texas', 'Alaska'}\n",
      "True\n",
      "False\n"
     ]
    }
   ],
   "source": [
    "# Sets (set of unique values, test membership)\n",
    "\n",
    "states = ['Kansas', 'Texas', 'California', 'Texas', 'Alaska', 'Kansas']\n",
    "uniqueStates = set(states) # \n",
    "print(uniqueStates)\n",
    "\n",
    "print('Kansas' in uniqueStates) # Testing membership (True)\n",
    "print('Iowa' in uniqueStates)   # Testing membership (False)"
   ]
  },
  {
   "cell_type": "code",
   "execution_count": 8,
   "metadata": {},
   "outputs": [
    {
     "name": "stdout",
     "output_type": "stream",
     "text": [
      "{'G', 'A', 'T'}\n",
      "{'G', 'A', 'C', 'T'}\n"
     ]
    },
    {
     "data": {
      "text/plain": [
       "{'C'}"
      ]
     },
     "execution_count": 8,
     "metadata": {},
     "output_type": "execute_result"
    }
   ],
   "source": [
    "dna1 = set('ATTTGAATTA') # DNA sequence 1\n",
    "dna2 = set('GGATTCGCGT') # DNA sequence 2\n",
    "\n",
    "# Print unique bases in each DNA sequence\n",
    "print(dna1)\n",
    "print(dna2)\n",
    "\n",
    "dna1 - dna2   # bases in dna1 BUT NOT in dna2\n",
    "dna1 | dna2   # bases in dna1 OR in dna2\n",
    "dna1 & dna2   # bases in dna1 AND in dna2\n",
    "dna1 ^ dna2   # bases in dna1 OR dna2, BUT NOT BOTH"
   ]
  },
  {
   "cell_type": "code",
   "execution_count": 29,
   "metadata": {},
   "outputs": [
    {
     "name": "stdout",
     "output_type": "stream",
     "text": [
      "this is a string\n"
     ]
    },
    {
     "data": {
      "text/plain": [
       "str"
      ]
     },
     "execution_count": 29,
     "metadata": {},
     "output_type": "execute_result"
    }
   ],
   "source": [
    "# String\n",
    "mystr = 'this is a string'\n",
    "print(mystr)\n",
    "type(mystr)"
   ]
  },
  {
   "cell_type": "code",
   "execution_count": 32,
   "metadata": {},
   "outputs": [
    {
     "name": "stdout",
     "output_type": "stream",
     "text": [
      "3\n"
     ]
    },
    {
     "data": {
      "text/plain": [
       "int"
      ]
     },
     "execution_count": 32,
     "metadata": {},
     "output_type": "execute_result"
    }
   ],
   "source": [
    "# An integer\n",
    "mynum = 3\n",
    "print(mynum)\n",
    "type(mynum)"
   ]
  },
  {
   "cell_type": "code",
   "execution_count": 33,
   "metadata": {},
   "outputs": [
    {
     "name": "stdout",
     "output_type": "stream",
     "text": [
      "4.0\n"
     ]
    },
    {
     "data": {
      "text/plain": [
       "float"
      ]
     },
     "execution_count": 33,
     "metadata": {},
     "output_type": "execute_result"
    }
   ],
   "source": [
    "# A floating point number\n",
    "myfloat = 4.0\n",
    "print(myfloat)\n",
    "type(myfloat)\n"
   ]
  },
  {
   "cell_type": "code",
   "execution_count": 12,
   "metadata": {},
   "outputs": [
    {
     "name": "stdout",
     "output_type": "stream",
     "text": [
      "<class 'list'>\n",
      "<class 'bool'>\n"
     ]
    }
   ],
   "source": [
    "# Boolean\n",
    "myBool = [True,True,False,True]\n",
    "print(type(myBool))\n",
    "print(type(myBool[0]))"
   ]
  }
 ],
 "metadata": {
  "kernelspec": {
   "display_name": "Python 3",
   "language": "python",
   "name": "python3"
  },
  "language_info": {
   "codemirror_mode": {
    "name": "ipython",
    "version": 3
   },
   "file_extension": ".py",
   "mimetype": "text/x-python",
   "name": "python",
   "nbconvert_exporter": "python",
   "pygments_lexer": "ipython3",
   "version": "3.7.0"
  }
 },
 "nbformat": 4,
 "nbformat_minor": 2
}
