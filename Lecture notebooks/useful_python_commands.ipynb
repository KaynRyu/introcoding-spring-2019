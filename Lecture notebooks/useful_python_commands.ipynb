{
 "cells": [
  {
   "cell_type": "markdown",
   "metadata": {},
   "source": [
    "# Useful python commands"
   ]
  },
  {
   "cell_type": "code",
   "execution_count": 14,
   "metadata": {},
   "outputs": [],
   "source": [
    "# One of the most basic operations in Python is importing modules\n",
    "# While sometimes is not easy to know before hand which modules and sub-modules need to be imported,\n",
    "# importing modules allow us to only work with the libraries we need. Imagine waiting for Python\n",
    "# to load all the core libraries upon starting the console or jupyter notebook."
   ]
  },
  {
   "cell_type": "code",
   "execution_count": 20,
   "metadata": {},
   "outputs": [],
   "source": [
    "# Import an entire module and access a function (also called method)\n",
    "import time\n",
    "time.localtime()\n",
    "\n",
    "# Import an entire module with an abbreviated name and access a function\n",
    "import numpy as np\n",
    "np.abs(-5)\n",
    "\n",
    "# Import a sub-module and access a function\n",
    "from scipy import ndimage\n"
   ]
  },
  {
   "cell_type": "code",
   "execution_count": 9,
   "metadata": {},
   "outputs": [
    {
     "name": "stdout",
     "output_type": "stream",
     "text": [
      "/Users/andrespatrignani/Dropbox/Teaching/Scientific programming/pythoncode/notebooks\n"
     ]
    }
   ],
   "source": [
    "# Display current working directory\n",
    "import os\n",
    "cwd = os.getcwd()\n",
    "print(cwd)\n"
   ]
  },
  {
   "cell_type": "code",
   "execution_count": null,
   "metadata": {},
   "outputs": [],
   "source": [
    "# Just print current folder\n",
    "# os.sep is the separator between folders used by different OS, such as Windows(\\) and Macs(/)\n",
    "os.getcwd().split(os.sep)[-1] \n"
   ]
  },
  {
   "cell_type": "code",
   "execution_count": null,
   "metadata": {},
   "outputs": [],
   "source": [
    "# Python version\n",
    "import sys\n",
    "print(sys.version)\n"
   ]
  },
  {
   "cell_type": "code",
   "execution_count": null,
   "metadata": {},
   "outputs": [],
   "source": [
    "# Delay execution\n",
    "import time\n",
    "time.sleep(1)  # in seconds"
   ]
  }
 ],
 "metadata": {
  "kernelspec": {
   "display_name": "Python 3",
   "language": "python",
   "name": "python3"
  },
  "language_info": {
   "codemirror_mode": {
    "name": "ipython",
    "version": 3
   },
   "file_extension": ".py",
   "mimetype": "text/x-python",
   "name": "python",
   "nbconvert_exporter": "python",
   "pygments_lexer": "ipython3",
   "version": "3.7.0"
  }
 },
 "nbformat": 4,
 "nbformat_minor": 2
}
