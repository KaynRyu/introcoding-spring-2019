{
 "cells": [
  {
   "cell_type": "markdown",
   "metadata": {},
   "source": [
    "# For Loops\n",
    "\n",
    "When we think about computers we often think as machines that help us automating tasks. For loops are central to this concept. For loops allows us to iterate, to repeate, an operation as many times as we want or within the range we want.\n"
   ]
  },
  {
   "cell_type": "markdown",
   "metadata": {},
   "source": [
    "Loops require a specific syntax. The barebones of the for loop is as follows:\n",
    "\n",
    "```python\n",
    "for item in listOfItems:\n",
    "    do something\n",
    "```\n",
    "\n",
    "This is basic and potentially confusing if this is the first your attempting to write a `for loop`. Let's look at an example and then let's dissect the code into parts. A trivial example is:"
   ]
  },
  {
   "cell_type": "code",
   "execution_count": 40,
   "metadata": {},
   "outputs": [
    {
     "name": "stdout",
     "output_type": "stream",
     "text": [
      "0\n",
      "1\n",
      "2\n"
     ]
    }
   ],
   "source": [
    "for i in range(0, 3):\n",
    "    print(i)"
   ]
  },
  {
   "cell_type": "markdown",
   "metadata": {},
   "source": [
    "`for` command that indicates we are implementing a \"for loop\". This is a reserved word.\n",
    "\n",
    "`i` this is a (dummy) variable that will change its value in each iteration.\n",
    "\n",
    "`in range(0,3)` we let the *i* variable know in which range it has to change\n",
    "\n",
    "`:` it means that whatever comes next is going to be the code to execute within the for loop\n",
    "\n",
    "\n",
    "> Note the indentation of the `print` command. The indentation is equivalent to 4 spaces with the spacebar or `Ctrl + ]` in Windows machines or `Cmd + ]` in Mac. **Indentation matters in Python.**\n"
   ]
  },
  {
   "cell_type": "code",
   "execution_count": 12,
   "metadata": {},
   "outputs": [
    {
     "name": "stdout",
     "output_type": "stream",
     "text": [
      "mollisols\n",
      "hapludols\n",
      "alfisols\n"
     ]
    }
   ],
   "source": [
    "soils = [\"mollisols\", \"hapludols\", \"alfisols\"]\n",
    "for x in soils:\n",
    "    print(x)\n"
   ]
  },
  {
   "cell_type": "code",
   "execution_count": 11,
   "metadata": {},
   "outputs": [
    {
     "name": "stdout",
     "output_type": "stream",
     "text": [
      "mollisols\n",
      "hapludols\n",
      "alfisols\n"
     ]
    }
   ],
   "source": [
    "for taxonomic_order in soils:\n",
    "    print(taxonomic_order)\n",
    "    "
   ]
  },
  {
   "cell_type": "code",
   "execution_count": 14,
   "metadata": {},
   "outputs": [
    {
     "name": "stdout",
     "output_type": "stream",
     "text": [
      "coord\n",
      "weather\n",
      "base\n",
      "main\n",
      "visibility\n",
      "wind\n",
      "clouds\n",
      "dt\n",
      "sys\n",
      "id\n",
      "name\n",
      "cod\n"
     ]
    }
   ],
   "source": [
    "data = {\"coord\":{\"lon\":-0.13,\"lat\":51.51},\n",
    "        \"weather\":[{\"description\":\"light intensity drizzle\"}],\n",
    "        \"base\":\"stations\",\n",
    "        \"main\":{\"temp\":280.32,\"pressure\":1012,\"humidity\":81},\n",
    "        \"visibility\":10000,\n",
    "        \"wind\":{\"speed\":4.1,\"deg\":80},\n",
    "        \"clouds\":{\"all\":90},\n",
    "        \"dt\":1485789600,\n",
    "        \"sys\":{\"country\":\"GB\",\"sunrise\":1485762037},\n",
    "        \"id\":2643743,\n",
    "        \"name\":\"London\",\n",
    "        \"cod\":200}\n",
    "\n",
    "\n",
    "# Print all fields of dictionary\n",
    "for i in data:\n",
    "    print(i)\n"
   ]
  },
  {
   "cell_type": "code",
   "execution_count": 13,
   "metadata": {},
   "outputs": [
    {
     "name": "stdout",
     "output_type": "stream",
     "text": [
      "lon\n",
      "lat\n"
     ]
    }
   ],
   "source": [
    "# Print all fields of dictionary\n",
    "for j in data['coord']:\n",
    "    print(j)"
   ]
  },
  {
   "cell_type": "code",
   "execution_count": 18,
   "metadata": {},
   "outputs": [
    {
     "name": "stdout",
     "output_type": "stream",
     "text": [
      "1a\n",
      "1b\n",
      "1c\n",
      "2a\n",
      "2b\n",
      "2c\n",
      "3a\n",
      "3b\n",
      "3c\n"
     ]
    }
   ],
   "source": [
    "# Nested for loops\n",
    "# Useful when we need to iterate over two variables. Common in nested data arrays or \n",
    "# 2D arrays such as images.\n",
    "\n",
    "plots = range(1,4)\n",
    "treatments = ['a','b','c']\n",
    "for i in plots:\n",
    "    for j in treatments:\n",
    "        print(str(i) + j) \n",
    "        \n",
    "# Try swapping the order of the treatment letters and see what happens."
   ]
  },
  {
   "cell_type": "markdown",
   "metadata": {},
   "source": [
    "We can easily list files in the current directory by combining a `for loop` with the `glob module`.\n",
    "Even better, we can filter the file type using the file extension."
   ]
  },
  {
   "cell_type": "code",
   "execution_count": 19,
   "metadata": {},
   "outputs": [
    {
     "name": "stdout",
     "output_type": "stream",
     "text": [
      "ch1_down_the_rabbit_hole.txt\n",
      "dna_sequence.txt\n",
      "jabberwocky_lewis_carroll.txt\n",
      "morse_lookup_table.txt\n",
      "nobel_physics.txt\n"
     ]
    }
   ],
   "source": [
    "# Store and print the list of text files (denoted with extension ''.txt') only\n",
    "import glob\n",
    "glob.os.chdir('/Users/andrespatrignani/Dropbox/Teaching/Scientific programming/introcoding-spring-2019/Datasets')\n",
    "\n",
    "for file in glob.glob(\"*.txt\"):\n",
    "    print(file)\n"
   ]
  },
  {
   "cell_type": "code",
   "execution_count": 20,
   "metadata": {},
   "outputs": [
    {
     "name": "stdout",
     "output_type": "stream",
     "text": [
      "['ch1_down_the_rabbit_hole.txt', 'dna_sequence.txt', 'jabberwocky_lewis_carroll.txt', 'morse_lookup_table.txt', 'nobel_physics.txt']\n"
     ]
    }
   ],
   "source": [
    "# An alternative way in case you want to store the file names in a list\n",
    "txtfiles = []\n",
    "for file in glob.glob(\"*.txt\"):\n",
    "    txtfiles.append(file)\n",
    "\n",
    "print(txtfiles)  # This is not part of the loop"
   ]
  },
  {
   "cell_type": "markdown",
   "metadata": {},
   "source": [
    "## Antecedent Precipitation Index\n",
    "\n",
    "This is a simple exercise for modeling soil moisture based on rainfall.\n",
    "\n",
    "$$SWC_t = \\alpha \\;SWC_{t-1} + P_t$$\n",
    "\n",
    "\n",
    "$SWC_t$: Soil water content at time $t$ (today)\n",
    "\n",
    "$SWC_{t-1}$: Soil water content at time $t-1$ (yesterday)\n",
    "\n",
    "$\\alpha$: Loss coefficient. Range between 0 and 1\n",
    "\n",
    "$P_t$: Precipitation at time $t$ (today)\n",
    "\n",
    "The model requires knowledge of the soil water content the first day. This is called an **initial condition** or initial state of the soil. In other words, we need a starting point to work out the magic with the model."
   ]
  },
  {
   "cell_type": "code",
   "execution_count": 22,
   "metadata": {},
   "outputs": [
    {
     "name": "stdout",
     "output_type": "stream",
     "text": [
      "[200, 180, 162, 158, 167, 150, 135, 122, 140, 126, 113, 102, 92, 83, 75]\n"
     ]
    }
   ],
   "source": [
    "soil_moisture = [200]     # Some initial soil water amount in the soil. Same units as rainfall data\n",
    "rainfall = [0,0,0,12,25,0,0,0,30,0,0,0,0,0,0]\n",
    "alpha = 0.9 # Percent of soil moisture remaining from the previous day.\n",
    "\n",
    "for i in range(1,len(rainfall)):\n",
    "    new_soil_moisture = round(soil_moisture[i-1]*alpha + rainfall[i])\n",
    "    soil_moisture.append(new_soil_moisture)\n",
    "\n",
    "print(soil_moisture)\n"
   ]
  },
  {
   "cell_type": "markdown",
   "metadata": {},
   "source": [
    "## Note on application of `for loops`\n",
    "Loops are great for iterating over lists, but they are also great for modeling time-dependant processes. In the case of the antecedent precipitation index, today's soil water content depends on yesterday's soil water content, today's rainfall, and a loss parameter that encapsulates the effect of soil drainage and atmopsheric demand. \n",
    "\n",
    "You can use for loops to model population dynamics, heat transfer, chemical reactions, radioactive decay, biomass accumulation of different organisms, and the list goes on."
   ]
  }
 ],
 "metadata": {
  "kernelspec": {
   "display_name": "Python 3",
   "language": "python",
   "name": "python3"
  },
  "language_info": {
   "codemirror_mode": {
    "name": "ipython",
    "version": 3
   },
   "file_extension": ".py",
   "mimetype": "text/x-python",
   "name": "python",
   "nbconvert_exporter": "python",
   "pygments_lexer": "ipython3",
   "version": "3.7.0"
  }
 },
 "nbformat": 4,
 "nbformat_minor": 2
}
