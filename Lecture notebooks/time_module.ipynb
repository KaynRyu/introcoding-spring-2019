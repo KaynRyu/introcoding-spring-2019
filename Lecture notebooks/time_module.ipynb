{
 "cells": [
  {
   "cell_type": "markdown",
   "metadata": {},
   "source": [
    "# Time module\n",
    "The time module is typically used when we need to time code, otherwise the datetime module might be a better choice."
   ]
  },
  {
   "cell_type": "code",
   "execution_count": null,
   "metadata": {},
   "outputs": [],
   "source": [
    "import time"
   ]
  },
  {
   "cell_type": "code",
   "execution_count": 3,
   "metadata": {},
   "outputs": [
    {
     "name": "stdout",
     "output_type": "stream",
     "text": [
      "time.struct_time(tm_year=2019, tm_mon=1, tm_mday=30, tm_hour=13, tm_min=44, tm_sec=11, tm_wday=2, tm_yday=30, tm_isdst=0)\n"
     ]
    },
    {
     "data": {
      "text/plain": [
       "time.struct_time"
      ]
     },
     "execution_count": 3,
     "metadata": {},
     "output_type": "execute_result"
    }
   ],
   "source": [
    "# Get detailed local time and date\n",
    "\n",
    "clk = time.localtime()\n",
    "print(clk)\n",
    "type(clk)"
   ]
  },
  {
   "cell_type": "code",
   "execution_count": null,
   "metadata": {},
   "outputs": [],
   "source": [
    "# The statement above generates a time structure (a container with labeled sub-containers)\n",
    "# This means that we can access the sub-containers by calling their name.\n",
    "\n",
    "print(clk.tm_year)\n",
    "print(clk.tm_hour)\n",
    "print(clk.tm_sec)"
   ]
  },
  {
   "cell_type": "markdown",
   "metadata": {},
   "source": [
    "## Python is synchronous\n",
    "\n",
    "The Python interpreter executes one line at the time and will only proceed to the following line once the current line has finished. This means that if you have a line that takes time to execute, the entire code will be on hold. The up side of this behavior is that is easy to write code using logical steps."
   ]
  },
  {
   "cell_type": "code",
   "execution_count": null,
   "metadata": {},
   "outputs": [],
   "source": [
    "# An important concept is that Python is synchronous, which means that the interpreter executes \n",
    "# lines from top to bottom and that it will wait until the current line has finished in order to \n",
    "# proceed with the following line. This seems obvious, but not all programming languages\n",
    "# behave this way. We can see this if we print the steps or if we apply a delay. \n",
    "# Let's examine both:\n",
    "\n",
    "# Print steps\n",
    "print('Executing step 1')\n",
    "print('Executing step 2')\n",
    "print('Executing step 3')\n",
    "print('See, they were printed sequentially!')"
   ]
  },
  {
   "cell_type": "code",
   "execution_count": null,
   "metadata": {},
   "outputs": [],
   "source": [
    "# Applying a time delay. In this case, the time delay mimics a long computation\n",
    "print('Executing step 1')\n",
    "time.sleep(3)  # in seconds\n",
    "print('Executing step 2')\n",
    "\n",
    "# As you can see the \"step 2\" command did not execute right away. \n",
    "# An advantage of this behavior is that is easy to write code and organize lines in logical order.\n",
    "# A disadvantage is that if one line of code requires long processing times, the entire code will \n",
    "# be delayed. In order words, a single line could block the entire code."
   ]
  },
  {
   "cell_type": "markdown",
   "metadata": {},
   "source": [
    "## Evaluate code performance\n",
    "\n",
    "Use the time module to check and document the performance of your script\n",
    "The `perf_counter()` function brings up the clock with the highest resolution.\n",
    "The reference point of the returned value is undefined, so that only the difference between the results of consecutive calls is meaningful. Source: https://docs.python.org/3/library/time.html\n",
    "\n",
    "`tic` will store the initial time and `toc` will store the final time."
   ]
  },
  {
   "cell_type": "code",
   "execution_count": 11,
   "metadata": {},
   "outputs": [
    {
     "name": "stdout",
     "output_type": "stream",
     "text": [
      "Temperature outside is 27.8 Celsius\n",
      "Elapsed time: 0.0002739239999982601\n"
     ]
    }
   ],
   "source": [
    "\n",
    "tic = time.perf_counter(); # Get initial time\n",
    "\n",
    "# Start code\n",
    "temp_f = 82 # Temperature in [F]\n",
    "temp_c = (temp - 32) * 5/9\n",
    "print('Temperature outside is',round(temp_c,1),'Celsius')\n",
    "# end code\n",
    "\n",
    "toc = time.perf_counter();\n",
    "\n",
    "print('Elapsed time:', toc-tic)"
   ]
  },
  {
   "cell_type": "markdown",
   "metadata": {},
   "source": [
    "## Format of time strings\n",
    "\n",
    "**%a**    Locale’s abbreviated weekday name\n",
    "\n",
    "**%d**    Day of the month as a decimal number [01,31]\n",
    "\n",
    "**%b**    Locale’s abbreviated month name\n",
    "\n",
    "**%Y**    Year with century as a decimal number\n",
    "\n",
    "**%H**    Hour (24-hour clock) as a decimal number [00,23]\n",
    "\n",
    "**%M**    Minute as a decimal number [00,59]\n",
    "\n",
    "**%S**    Second as a decimal number [00,61]\n",
    "\n",
    "For more options visit the official Python docs at: <https://docs.python.org/3/library/time.html>"
   ]
  },
  {
   "cell_type": "code",
   "execution_count": 10,
   "metadata": {},
   "outputs": [
    {
     "data": {
      "text/plain": [
       "'Fri, 02 Nov 2018 15:14:38 +0000'"
      ]
     },
     "execution_count": 10,
     "metadata": {},
     "output_type": "execute_result"
    }
   ],
   "source": [
    "# UTC (Coordinated Universal Time) or GMT (Greenwich Meridian Time)\n",
    "time.strftime(\"%a, %d %b %Y %H:%M:%S +0000\", time.gmtime())"
   ]
  },
  {
   "cell_type": "code",
   "execution_count": 12,
   "metadata": {},
   "outputs": [
    {
     "data": {
      "text/plain": [
       "'Fri, 02 Nov 2018 10:17:13 +0000'"
      ]
     },
     "execution_count": 12,
     "metadata": {},
     "output_type": "execute_result"
    }
   ],
   "source": [
    "# Formatted local time\n",
    "time.strftime(\"%a, %d %b %Y %H:%M:%S +0000\", time.localtime())"
   ]
  }
 ],
 "metadata": {
  "kernelspec": {
   "display_name": "Python 3",
   "language": "python",
   "name": "python3"
  },
  "language_info": {
   "codemirror_mode": {
    "name": "ipython",
    "version": 3
   },
   "file_extension": ".py",
   "mimetype": "text/x-python",
   "name": "python",
   "nbconvert_exporter": "python",
   "pygments_lexer": "ipython3",
   "version": "3.7.0"
  }
 },
 "nbformat": 4,
 "nbformat_minor": 2
}
