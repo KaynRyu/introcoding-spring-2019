{
 "cells": [
  {
   "cell_type": "markdown",
   "metadata": {},
   "source": [
    "# If Statements\n",
    "\n",
    "We can use decision rules to instruct the computer to execut specific commands. This way we can control the flow of our code."
   ]
  },
  {
   "cell_type": "code",
   "execution_count": 8,
   "metadata": {},
   "outputs": [
    {
     "name": "stdout",
     "output_type": "stream",
     "text": [
      "This is value is an eight!\n"
     ]
    }
   ],
   "source": [
    "# Basic if statement\n",
    "value = 8\n",
    "\n",
    "if value == 8:\n",
    "    print('This is value is an eight!')\n"
   ]
  },
  {
   "cell_type": "code",
   "execution_count": 9,
   "metadata": {},
   "outputs": [
    {
     "name": "stdout",
     "output_type": "stream",
     "text": [
      "Number is even\n"
     ]
    }
   ],
   "source": [
    "# If and Else statement\n",
    "value = 8\n",
    "\n",
    "if value % 2 == 0:\n",
    "    print('Number is even')\n",
    "else:\n",
    "    print('Number is odd')\n"
   ]
  },
  {
   "cell_type": "code",
   "execution_count": 10,
   "metadata": {},
   "outputs": [
    {
     "name": "stdout",
     "output_type": "stream",
     "text": [
      "That's perfect\n"
     ]
    }
   ],
   "source": [
    "# If, Else-if, and Else statement\n",
    "value = 8\n",
    "\n",
    "if value > 10:\n",
    "    print('Value is too high')\n",
    "    \n",
    "elif value <=10 & value >= 5:\n",
    "    print(\"That's perfect\")\n",
    "    \n",
    "else:\n",
    "    print('Number is way too low')\n"
   ]
  },
  {
   "cell_type": "code",
   "execution_count": 2,
   "metadata": {},
   "outputs": [
    {
     "name": "stdout",
     "output_type": "stream",
     "text": [
      "A\n"
     ]
    }
   ],
   "source": [
    "# For simple expressions we can use a one-line If statement\n",
    "print(\"A\") if a > b else print(\"B\")"
   ]
  },
  {
   "cell_type": "code",
   "execution_count": 17,
   "metadata": {},
   "outputs": [
    {
     "name": "stdout",
     "output_type": "stream",
     "text": [
      "Tbase: 8\n"
     ]
    }
   ],
   "source": [
    "crop = 'corn'\n",
    "\n",
    "if crop == 'corn':\n",
    "    Tbase = 8\n",
    "    print('Tbase:',Tbase)\n",
    "    \n",
    "elif crop == 'wheat':\n",
    "    Tbase = 0\n",
    "    print('Tbase:',Tbase)\n",
    "    \n",
    "else:\n",
    "    print('Crop not found. Options are corn or wheat. Your input was:',crop)\n",
    "    \n"
   ]
  },
  {
   "cell_type": "code",
   "execution_count": 18,
   "metadata": {},
   "outputs": [
    {
     "name": "stdout",
     "output_type": "stream",
     "text": [
      "Number 0 is even\n",
      "Number 1 is odd\n",
      "Number 2 is even\n",
      "Number 3 is odd\n",
      "Number 4 is even\n",
      "Number 5 is odd\n",
      "Number 6 is even\n",
      "Number 7 is odd\n",
      "Number 8 is even\n",
      "Number 9 is odd\n"
     ]
    }
   ],
   "source": [
    "for value in range(0,10):\n",
    "    if value % 2 == 0:\n",
    "        print('Number',value,'is even')\n",
    "    else:\n",
    "        print('Number',value,'is odd')\n",
    "        \n"
   ]
  }
 ],
 "metadata": {
  "kernelspec": {
   "display_name": "Python 3",
   "language": "python",
   "name": "python3"
  },
  "language_info": {
   "codemirror_mode": {
    "name": "ipython",
    "version": 3
   },
   "file_extension": ".py",
   "mimetype": "text/x-python",
   "name": "python",
   "nbconvert_exporter": "python",
   "pygments_lexer": "ipython3",
   "version": "3.7.0"
  }
 },
 "nbformat": 4,
 "nbformat_minor": 2
}
