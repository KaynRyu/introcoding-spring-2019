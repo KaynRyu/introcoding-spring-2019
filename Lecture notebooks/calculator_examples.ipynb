{
 "cells": [
  {
   "cell_type": "markdown",
   "metadata": {},
   "source": [
    "# Examples \n",
    "\n",
    "Simple examples of using Python as a simple calculator."
   ]
  },
  {
   "cell_type": "markdown",
   "metadata": {},
   "source": [
    "**Carpool availability**"
   ]
  },
  {
   "cell_type": "code",
   "execution_count": null,
   "metadata": {},
   "outputs": [],
   "source": [
    "cars = 50\n",
    "sits_per_car = 4\n",
    "carpool_capacity = cars * sits_per_car\n",
    "passengers = 185\n",
    "sits_available = carpool_capacity - passengers\n",
    "\n",
    "# Multiple ways of printing the output\n",
    "print(\"There are\", cars, \"cars and remain only\", sits_available , \"sits available.\")\n",
    "print(\"There are \" + str(cars) + \" cars and remain only \" + str(sits_available) + \" sits available.\")\n"
   ]
  },
  {
   "cell_type": "markdown",
   "metadata": {},
   "source": [
    "**Body height conversion**"
   ]
  },
  {
   "cell_type": "code",
   "execution_count": null,
   "metadata": {},
   "outputs": [],
   "source": [
    "height_inches = 72 # inches\n",
    "height_cm = height_inches * 2.54\n",
    "print(\"My height is\",height_cm,\"cm\")\n",
    "print(\"My height is\",round(height_cm,1),\"cm\")\n"
   ]
  },
  {
   "cell_type": "markdown",
   "metadata": {},
   "source": [
    "**Hypotenuse calculations**\n",
    "\n",
    "Given a and b are the sides of a right triangle, compute the hypotenuse. For instance, if a=3 and b=4, then the command must return a value of 5."
   ]
  },
  {
   "cell_type": "code",
   "execution_count": 11,
   "metadata": {},
   "outputs": [
    {
     "name": "stdout",
     "output_type": "stream",
     "text": [
      "5.830951894845301\n",
      "5.8\n",
      "Hypotenuse is 5.8 centimeters\n"
     ]
    }
   ],
   "source": [
    "# Solution\n",
    "a = 3 # [cm]\n",
    "b = 5 # [cm]\n",
    "hypotenuse = (a**2 + b**2)**0.5 # also in [cm]\n",
    "print(hypotenuse)\n",
    "print(round(hypotenuse,1)) # Let's make the output a bit prettier.\n",
    "print( ('Hypotenuse is {hypotenus} centimeters').format(hypotenus=round(hypotenuse,1)) ) # Let's make it even prettier."
   ]
  }
 ],
 "metadata": {
  "kernelspec": {
   "display_name": "Python 3",
   "language": "python",
   "name": "python3"
  },
  "language_info": {
   "codemirror_mode": {
    "name": "ipython",
    "version": 3
   },
   "file_extension": ".py",
   "mimetype": "text/x-python",
   "name": "python",
   "nbconvert_exporter": "python",
   "pygments_lexer": "ipython3",
   "version": "3.7.0"
  }
 },
 "nbformat": 4,
 "nbformat_minor": 2
}
