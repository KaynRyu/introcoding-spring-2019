{
 "cells": [
  {
   "cell_type": "markdown",
   "metadata": {},
   "source": [
    "# Random module\n",
    "\n",
    "Module tutorial about generating single random numbers, multiple random numbers from a specified range, items from lists, or numbers from specific distributions.\n",
    "\n",
    "Official documentation: https://docs.python.org/3/library/random.html"
   ]
  },
  {
   "cell_type": "code",
   "execution_count": 1,
   "metadata": {},
   "outputs": [],
   "source": [
    "import random"
   ]
  },
  {
   "cell_type": "code",
   "execution_count": 34,
   "metadata": {},
   "outputs": [
    {
     "data": {
      "text/plain": [
       "0.38004768437208425"
      ]
     },
     "execution_count": 34,
     "metadata": {},
     "output_type": "execute_result"
    }
   ],
   "source": [
    "# A random float between 0 and 1 from a uniform distribution (each number has the same probability). \n",
    "random.random()"
   ]
  },
  {
   "cell_type": "code",
   "execution_count": 33,
   "metadata": {},
   "outputs": [
    {
     "data": {
      "text/plain": [
       "32.95480829051052"
      ]
     },
     "execution_count": 33,
     "metadata": {},
     "output_type": "execute_result"
    }
   ],
   "source": [
    "# Random float between 0 and 100\n",
    "random.random()*100"
   ]
  },
  {
   "cell_type": "code",
   "execution_count": 58,
   "metadata": {},
   "outputs": [
    {
     "name": "stdout",
     "output_type": "stream",
     "text": [
      "102.67178127551811\n"
     ]
    }
   ],
   "source": [
    "# A random float within a specific range\n",
    "min_val = 20\n",
    "max_val = 250\n",
    "rnd_val = (max_val - min_val)*random.random() + min_val\n",
    "print(rnd_val)"
   ]
  },
  {
   "cell_type": "code",
   "execution_count": 167,
   "metadata": {},
   "outputs": [
    {
     "data": {
      "text/plain": [
       "116"
      ]
     },
     "execution_count": 167,
     "metadata": {},
     "output_type": "execute_result"
    }
   ],
   "source": [
    "# Single random integer\n",
    "random.randrange(120)  # from 0 to 119"
   ]
  },
  {
   "cell_type": "code",
   "execution_count": 155,
   "metadata": {},
   "outputs": [
    {
     "data": {
      "text/plain": [
       "5"
      ]
     },
     "execution_count": 155,
     "metadata": {},
     "output_type": "execute_result"
    }
   ],
   "source": [
    "# Random integers\n",
    "random.randint(0,5) # A number from 0 to 5. Run multiple times to see it in action"
   ]
  },
  {
   "cell_type": "code",
   "execution_count": 165,
   "metadata": {},
   "outputs": [
    {
     "data": {
      "text/plain": [
       "120"
      ]
     },
     "execution_count": 165,
     "metadata": {},
     "output_type": "execute_result"
    }
   ],
   "source": [
    "# Random numbers from user-specified range using the randrange function\n",
    "random.randrange(120,150)"
   ]
  },
  {
   "cell_type": "code",
   "execution_count": 169,
   "metadata": {},
   "outputs": [
    {
     "data": {
      "text/plain": [
       "150"
      ]
     },
     "execution_count": 169,
     "metadata": {},
     "output_type": "execute_result"
    }
   ],
   "source": [
    "# Random numbers from user-specified range and STEP using the randrange function\n",
    "step = 10\n",
    "random.randrange(120,250,step)"
   ]
  },
  {
   "cell_type": "code",
   "execution_count": 2,
   "metadata": {},
   "outputs": [
    {
     "data": {
      "text/plain": [
       "8.366747126985722"
      ]
     },
     "execution_count": 2,
     "metadata": {},
     "output_type": "execute_result"
    }
   ],
   "source": [
    "# Random number from normal distribution\n",
    "mu, sigma = 5, 3\n",
    "random.gauss(mu, sigma)\n"
   ]
  },
  {
   "cell_type": "code",
   "execution_count": 154,
   "metadata": {},
   "outputs": [
    {
     "data": {
      "text/plain": [
       "0.17920433762068266"
      ]
     },
     "execution_count": 154,
     "metadata": {},
     "output_type": "execute_result"
    }
   ],
   "source": [
    "# Random number from gamma distribution\n",
    "alpha = 0.1\n",
    "beta = 3\n",
    "random.gammavariate(alpha, beta)"
   ]
  },
  {
   "cell_type": "code",
   "execution_count": 112,
   "metadata": {},
   "outputs": [
    {
     "name": "stdout",
     "output_type": "stream",
     "text": [
      "CCTG\n",
      "['GGAT', 'GGAT', 'ATTA', 'AGTT']\n",
      "['GGAT', 'CCTG', 'AGTT', 'ATTA']\n"
     ]
    }
   ],
   "source": [
    "# Get random items from a list\n",
    "\n",
    "# First define a list\n",
    "#array = [1,2,3,4,5]\n",
    "array = ['ATTA','AGTT','AAAC','CCTG','GGAT']\n",
    "\n",
    "# Single random element from list\n",
    "rnd_single_val = random.choice(array)\n",
    "print(rnd_single_val)\n",
    "\n",
    "# Multiple elements chosen from the population WITH replacement\n",
    "rnd_replacement = random.choices(array, k=4)\n",
    "print(rnd_replacement)\n",
    "\n",
    "# Multiple elements chosen from the population WITHOUT replacement\n",
    "rnd_no_replacement = random.sample(array, k=4)\n",
    "print(rnd_no_replacement)\n",
    "\n",
    "# Run several times. First block of code will result in repeated values. \n",
    "# Second block of code will result in randomly organized, but unique values from the array"
   ]
  },
  {
   "cell_type": "code",
   "execution_count": 130,
   "metadata": {},
   "outputs": [
    {
     "data": {
      "text/plain": [
       "3"
      ]
     },
     "execution_count": 130,
     "metadata": {},
     "output_type": "execute_result"
    }
   ],
   "source": [
    "random.seed(a=None) # Same as not defining the seed at all\n",
    "random.randint(0, 5)"
   ]
  },
  {
   "cell_type": "code",
   "execution_count": 121,
   "metadata": {},
   "outputs": [
    {
     "data": {
      "text/plain": [
       "5"
      ]
     },
     "execution_count": 121,
     "metadata": {},
     "output_type": "execute_result"
    }
   ],
   "source": [
    "random.seed(a=244)\n",
    "random.randint(a=0, b=5)"
   ]
  }
 ],
 "metadata": {
  "kernelspec": {
   "display_name": "Python 3",
   "language": "python",
   "name": "python3"
  },
  "language_info": {
   "codemirror_mode": {
    "name": "ipython",
    "version": 3
   },
   "file_extension": ".py",
   "mimetype": "text/x-python",
   "name": "python",
   "nbconvert_exporter": "python",
   "pygments_lexer": "ipython3",
   "version": "3.7.0"
  }
 },
 "nbformat": 4,
 "nbformat_minor": 2
}
