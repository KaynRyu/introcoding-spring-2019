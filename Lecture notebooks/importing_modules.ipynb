{
 "cells": [
  {
   "cell_type": "markdown",
   "metadata": {},
   "source": [
    "# Importing modules\n",
    "\n",
    "One of the most basic operations in Python is importing modules.\n",
    "\n",
    "Modules are just files containing specialized python code.Modules (a.k.a packages, toolboxes) are a collection of lines of code, typically in the form of functions) that you can bring up into the Python interpreter to execute a specific operation. There are tons of modules and to avoid loading every module in your local environment Python works by calling the modules that we need to use. Of course, this means that somehow we need to learn which are the modules available. This is usually something that you learn in a coding class, looking at the documentation, or by simply searching in the web.\n",
    "\n",
    "Here I will show you how to import common modules"
   ]
  },
  {
   "cell_type": "code",
   "execution_count": 14,
   "metadata": {},
   "outputs": [
    {
     "name": "stdout",
     "output_type": "stream",
     "text": [
      "3.7.0 (default, Jun 28 2018, 07:39:16) \n",
      "[Clang 4.0.1 (tags/RELEASE_401/final)]\n"
     ]
    }
   ],
   "source": [
    "# For instance the system, \"sys\", module has multiple functions (also known as methods)\n",
    "# that allow us to get information about the python interpreter. \n",
    "# Modules are imported once, usually at the the top of the code or notebook.\n",
    "# For instance, we can check our python version as follows:\n",
    "\n",
    "import sys\n",
    "print(sys.version)"
   ]
  },
  {
   "cell_type": "code",
   "execution_count": 13,
   "metadata": {},
   "outputs": [
    {
     "name": "stdout",
     "output_type": "stream",
     "text": [
      "time.struct_time(tm_year=2019, tm_mon=1, tm_mday=31, tm_hour=14, tm_min=14, tm_sec=38, tm_wday=3, tm_yday=31, tm_isdst=0)\n"
     ]
    }
   ],
   "source": [
    "# We can also use the time module to obtain the current date and time:\n",
    "\n",
    "import time\n",
    "print(time.localtime())"
   ]
  },
  {
   "cell_type": "code",
   "execution_count": 4,
   "metadata": {},
   "outputs": [
    {
     "data": {
      "text/plain": [
       "time.struct_time(tm_year=2019, tm_mon=1, tm_mday=29, tm_hour=16, tm_min=54, tm_sec=40, tm_wday=1, tm_yday=29, tm_isdst=0)"
      ]
     },
     "execution_count": 4,
     "metadata": {},
     "output_type": "execute_result"
    }
   ],
   "source": [
    "# We can also assign an alias to the module, so that it is easier to call it.\n",
    "# For instance, we can give the time module the alias \"t\":\n",
    "import time as t\n",
    "print(t.localtime())"
   ]
  }
 ],
 "metadata": {
  "kernelspec": {
   "display_name": "Python 3",
   "language": "python",
   "name": "python3"
  },
  "language_info": {
   "codemirror_mode": {
    "name": "ipython",
    "version": 3
   },
   "file_extension": ".py",
   "mimetype": "text/x-python",
   "name": "python",
   "nbconvert_exporter": "python",
   "pygments_lexer": "ipython3",
   "version": "3.7.0"
  }
 },
 "nbformat": 4,
 "nbformat_minor": 2
}
