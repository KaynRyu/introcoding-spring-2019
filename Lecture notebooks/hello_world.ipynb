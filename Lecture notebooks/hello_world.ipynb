{
 "cells": [
  {
   "cell_type": "markdown",
   "metadata": {},
   "source": [
    "# Getting started\n",
    "\n",
    "Here are some of the most basic Python commands so that you can create your very first notebook.\n",
    "\n",
    "**Few comments about Jupyter notebooks**\n",
    "- Code lives in cells, which help organizing your code. The main advantage of cells is that you can run (i.e. execute code) cells individually to ensure that the code is working properly before you move forward.\n",
    "- To run code in a cell press: ctrl + enter key. The result will appear right below the code.\n",
    "- To run code in a cell and move onto the next cell when done press: ctrl + shift + enter keys"
   ]
  },
  {
   "cell_type": "code",
   "execution_count": 1,
   "metadata": {},
   "outputs": [
    {
     "name": "stdout",
     "output_type": "stream",
     "text": [
      "Hello World\n"
     ]
    }
   ],
   "source": [
    "# The most iconic line of code when learning how to program\n",
    "print(\"Hello World\")"
   ]
  },
  {
   "cell_type": "code",
   "execution_count": 2,
   "metadata": {},
   "outputs": [],
   "source": [
    "# Comments are represented by the pound symbol \"#\". \n",
    "# So these few lines are comments and will be ignored by the Python interpreter.\n",
    "# Comments are useful to document your code"
   ]
  },
  {
   "cell_type": "code",
   "execution_count": 3,
   "metadata": {},
   "outputs": [
    {
     "name": "stdout",
     "output_type": "stream",
     "text": [
      "This sentence will print\n"
     ]
    }
   ],
   "source": [
    "print(\"This sentence will print\") # This one will not"
   ]
  },
  {
   "cell_type": "code",
   "execution_count": 4,
   "metadata": {},
   "outputs": [
    {
     "name": "stdout",
     "output_type": "stream",
     "text": [
      "I have 78 boxes to move\n",
      "Remainder is  1\n"
     ]
    }
   ],
   "source": [
    "# Print multiple items: strings and numbers\n",
    "print(\"I have\", 78, \"boxes to move\")\n",
    "print(\"Remainder is \", 10 % 3) # % is the modulus operator"
   ]
  },
  {
   "cell_type": "code",
   "execution_count": 5,
   "metadata": {},
   "outputs": [
    {
     "name": "stdout",
     "output_type": "stream",
     "text": [
      "There are 50 cars and remain only 15 sits available.\n",
      "There are 50 cars and remain only 15 sits available.\n",
      "There are 50.000000 cars and remain only 15.000000 sits available.\n",
      "There are 50 cars and remain only 15 sits available.\n",
      "There are 50 cars and remain only 15 sits available.\n"
     ]
    }
   ],
   "source": [
    "# Python as a calculator\n",
    "cars = 50\n",
    "sits_per_car = 4\n",
    "carpool_capacity = cars * sits_per_car\n",
    "passengers = 185\n",
    "sits_available = carpool_capacity - passengers\n",
    "\n",
    "# Multiple ways of printing the output\n",
    "print(\"There are\", cars, \"cars and remain only\", sits_available , \"sits available.\")\n",
    "print(\"There are \" + str(cars) + \" cars and remain only \" + str(sits_available) + \" sits available.\")\n",
    "\n",
    "# Previous line requires manual insertion of spaces\n",
    "\n",
    "print(\"There are %f cars and remain only %f sits available.\" % (cars, sits_available))\n",
    "print(\"There are %d cars and remain only %d sits available.\" % (cars, sits_available))\n",
    "\n",
    "# Modern and perhaps better option. Previous choices may be deprecated in future Python versions\n",
    "print(\"There are {} cars and remain only {} sits available.\".format(cars, sits_available))\n",
    "\n",
    "# %f and %d are defined within the string\n",
    "# Note that the percent symbol could be used to calcualte remainder, but also to indicate variables"
   ]
  },
  {
   "cell_type": "code",
   "execution_count": 6,
   "metadata": {},
   "outputs": [
    {
     "name": "stdout",
     "output_type": "stream",
     "text": [
      "My height is 182.88 cm\n",
      "My height is 182.9 cm\n"
     ]
    }
   ],
   "source": [
    "# Body height conversion\n",
    "height_inches = 72 # inches\n",
    "height_cm = height_inches * 2.54\n",
    "print(\"My height is\",height_cm,\"cm\")\n",
    "print(\"My height is\",round(height_cm,1),\"cm\")"
   ]
  },
  {
   "cell_type": "code",
   "execution_count": 7,
   "metadata": {},
   "outputs": [
    {
     "name": "stdout",
     "output_type": "stream",
     "text": [
      "3.7.0 (default, Jun 28 2018, 07:39:16) \n",
      "[Clang 4.0.1 (tags/RELEASE_401/final)]\n"
     ]
    }
   ],
   "source": [
    "# One of the most basic operations in Python is importing modules.\n",
    "# Modules are just files containing specialized python code.\n",
    "# For instance the system, \"sys\", module has multiple functions (also known as methods)\n",
    "# that allow us to get information about the python interpreter. \n",
    "# Modules are imported once, usually at the the top of the code or notebook.\n",
    "# For instance, we can check our python version as follows:\n",
    "\n",
    "import sys\n",
    "print(sys.version)"
   ]
  },
  {
   "cell_type": "code",
   "execution_count": 8,
   "metadata": {},
   "outputs": [
    {
     "name": "stdout",
     "output_type": "stream",
     "text": [
      "/Users/andrespatrignani/Dropbox/Teaching/Scientific programming/introcoding-spring-2019/Lecture notebooks\n"
     ]
    }
   ],
   "source": [
    "# Another module is the operating system module, that allow us (among many other things)\n",
    "# to know the current working directory (i.e. active directory)\n",
    "\n",
    "import os\n",
    "print(os.getcwd())\n",
    "\n",
    "# Note differences between operating systems: Mac and Linux have: / Windows has: \\"
   ]
  },
  {
   "cell_type": "code",
   "execution_count": 9,
   "metadata": {},
   "outputs": [
    {
     "data": {
      "text/plain": [
       "'Lecture notebooks'"
      ]
     },
     "execution_count": 9,
     "metadata": {},
     "output_type": "execute_result"
    }
   ],
   "source": [
    "# To simply know the folder in which the interpreter is located we could write:\n",
    "\n",
    "os.getcwd().split(os.sep)[-1] \n",
    "\n",
    "# certainly this is a more complicated command. The command is simply splitting the long \n",
    "# string that we obtained before at each back (Windows) or forward (Macs) slashes. The \"-1\"\n",
    "# is the pythonic way of calling for the last element in an array, which in this case is our current\n",
    "# folder. Most of these complicated commands are available in the reference."
   ]
  },
  {
   "cell_type": "code",
   "execution_count": 10,
   "metadata": {},
   "outputs": [
    {
     "data": {
      "text/plain": [
       "time.struct_time(tm_year=2019, tm_mon=1, tm_mday=29, tm_hour=18, tm_min=3, tm_sec=24, tm_wday=1, tm_yday=29, tm_isdst=0)"
      ]
     },
     "execution_count": 10,
     "metadata": {},
     "output_type": "execute_result"
    }
   ],
   "source": [
    "# We can also use the time module to obtain the current date and time:\n",
    "import time\n",
    "time.localtime()"
   ]
  },
  {
   "cell_type": "code",
   "execution_count": 11,
   "metadata": {},
   "outputs": [
    {
     "name": "stdout",
     "output_type": "stream",
     "text": [
      "Executing step 1\n",
      "Executing step 2\n",
      "Executing step 3\n",
      "See, they were printed sequentially!\n"
     ]
    }
   ],
   "source": [
    "# An important concept is that Python is synchronous, which means that the interpreter executes \n",
    "# lines from top to bottom and that it will wait until the current line has finished in order to \n",
    "# proceed with the following line. This seems obvious, but not all programming languages\n",
    "# behave this way. We can see this if we print the steps or if we apply a delay. \n",
    "# Let's examine both:\n",
    "\n",
    "# Print steps\n",
    "print('Executing step 1')\n",
    "print('Executing step 2')\n",
    "print('Executing step 3')\n",
    "print('See, they were printed sequentially!')"
   ]
  },
  {
   "cell_type": "code",
   "execution_count": 12,
   "metadata": {},
   "outputs": [
    {
     "name": "stdout",
     "output_type": "stream",
     "text": [
      "Executing step 1\n",
      "Executing step 2\n"
     ]
    }
   ],
   "source": [
    "# Applying a time delay. In this case, the time delay mimics a long computation\n",
    "print('Executing step 1')\n",
    "time.sleep(3)  # in seconds\n",
    "print('Executing step 2')\n",
    "\n",
    "# As you can see the \"step 2\" command did not execute right away. \n",
    "# An advantage of this behavior is that is easy to write code and organize lines in logical order.\n",
    "# A disadvantage is that if one line of code requires long processing times, the entire code will \n",
    "# get stuck. In order words, a single line could block the entire code."
   ]
  },
  {
   "cell_type": "code",
   "execution_count": 13,
   "metadata": {},
   "outputs": [
    {
     "name": "stdout",
     "output_type": "stream",
     "text": [
      "7\n",
      "-1\n",
      "12\n",
      "0.75\n",
      "81\n",
      "2\n"
     ]
    }
   ],
   "source": [
    "# The last part of this notebook consists of simple arithmetic operations\n",
    "# In python we can store information in the form of variables.\n",
    "# We use variables so that we can use useful information in later steps. For instance:\n",
    "\n",
    "print(3 + 4)\n",
    "print(3 - 4)\n",
    "print(3 * 4)\n",
    "print(3 / 4)\n",
    "print(3**4)\n",
    "print(10 % 4)\n",
    "\n",
    "# This case is trivial and we could have easily wrote c = 1 + 3, but often times we deal with\n",
    "# multiple values (arrays) or extensive datasets, in which case we use variables."
   ]
  },
  {
   "cell_type": "code",
   "execution_count": 14,
   "metadata": {},
   "outputs": [],
   "source": [
    "# Use of equality to define variable content\n",
    "a = 1"
   ]
  },
  {
   "cell_type": "code",
   "execution_count": 15,
   "metadata": {},
   "outputs": [
    {
     "name": "stdout",
     "output_type": "stream",
     "text": [
      "6\n"
     ]
    }
   ],
   "source": [
    "# Note that information stored in variables defined in one cell are also available in other cells.\n",
    "b = a + 5\n",
    "print(b)\n",
    "\n",
    "# We made use of the variable \"c\" that was defined in the preceding cell."
   ]
  },
  {
   "cell_type": "code",
   "execution_count": 16,
   "metadata": {},
   "outputs": [
    {
     "name": "stdout",
     "output_type": "stream",
     "text": [
      "34\n"
     ]
    }
   ],
   "source": [
    "# PROBLEM\n",
    "\n",
    "# Given two positive integers a and b\n",
    "# Return the integer corresponding to the square of the hypotenuse of the right triangle \n",
    "# whose legs have lengths a and b.\n",
    "\n",
    "# For instance, if a=3 and b=5, the result should be 34\n",
    "\n",
    "# Hint: define a and b as two separate variables. A function would be better.\n",
    "\n",
    "a = 3\n",
    "b = 5\n",
    "result = a**2 + b**2\n",
    "print(result)"
   ]
  }
 ],
 "metadata": {
  "kernelspec": {
   "display_name": "Python 3",
   "language": "python",
   "name": "python3"
  },
  "language_info": {
   "codemirror_mode": {
    "name": "ipython",
    "version": 3
   },
   "file_extension": ".py",
   "mimetype": "text/x-python",
   "name": "python",
   "nbconvert_exporter": "python",
   "pygments_lexer": "ipython3",
   "version": "3.7.0"
  }
 },
 "nbformat": 4,
 "nbformat_minor": 2
}
