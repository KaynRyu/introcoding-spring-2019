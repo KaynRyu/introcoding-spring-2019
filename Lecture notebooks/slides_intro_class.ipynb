{
 "cells": [
  {
   "cell_type": "markdown",
   "metadata": {},
   "source": [
    "# Welcome to Intro to Scientific Programming - Spring 2019\n",
    "\n",
    "Instructor: **Andres Patrignani**\n",
    "\n",
    "Office: **Throckmorton Hall 1011A**\n",
    "\n",
    "Office hours: **Open door. Send me an email to set an appointment to ensure I'm in the office**"
   ]
  },
  {
   "cell_type": "markdown",
   "metadata": {},
   "source": [
    "# Dreyfus scale of skill acquisition:\n",
    "\n",
    "Novice | Competent | Proficient | Expert | Mastery\n",
    "\n",
    "**Competent-Proficient**: use of programming languages to automate tasks, analyze datasets, and create a reproducible and logical blueprint of scientific claims."
   ]
  },
  {
   "cell_type": "markdown",
   "metadata": {},
   "source": [
    "# Introductions\n",
    "\n",
    "* Full name\n",
    "* Degree\n",
    "* Research topic\n",
    "* Why are you enrolled in this class?\n",
    "* Windows/Mac/Linux Operating System"
   ]
  },
  {
   "cell_type": "markdown",
   "metadata": {},
   "source": [
    "# Programming stats\n",
    "* Computing occupations are the number 1 source of all new wages in the U.S. \n",
    "* Computing occupations make up over half of all projected new jobs in STEM fields.\n",
    "* Kansas currently has 2,313 open computing jobs\n",
    "* Kansas had only 338 computer science graduates in 2015; only 14% were female.\n",
    "* The average salary for a computing occupation in KS is 77,116, higher than average salary in the state (44,570)."
   ]
  },
  {
   "cell_type": "markdown",
   "metadata": {},
   "source": [
    "# Role of coding in my career (5 min)\n",
    "* One of the most important skills that I learned in gradaute school\n",
    "\n",
    "* Before coding I was locked into analysis of variance and significant differences. \n",
    "\n",
    "* Coding enabled spatio-temporal analysis, numerical simulation of physically-based processes, curve fitting and parameter optimization\n",
    "\n",
    "* Coding forced me to think logically, break down a large problem into smaller steps, and increase attention to seemingly irrelevant details\n",
    "\n",
    "* Track the work and reasoning of students and colleagues. Underrated tool for advising\n",
    "\n",
    "* Create something out of thin air"
   ]
  },
  {
   "cell_type": "markdown",
   "metadata": {},
   "source": [
    "# Brief history of coding languages in Science (10 min)\n",
    "Make a timeline. Source: <https://www.wikiwand.com/en/Timeline_of_programming_languages>\n",
    "    * 1958 - Fortran II\n",
    "    * 1964 - BASIC (show soil physics book)\n",
    "    * 1970 - Pascal\n",
    "    * 1972 - C (Low level, base of other languages: C++,Java,JavaScript,C#,PHP, Python)\n",
    "    * 1976 - SAS\n",
    "    * 1978 - Matlab (https://www.mathworks.com/products/matlab.html)\n",
    "    * 1989 - Python (https://www.python.org/)\n",
    "    * 1990 - HTML (physicist Tim Berners-Lee, a contractor at CERN, used for documentation)\n",
    "    * 1993 - R (https://www.r-project.org/)\n",
    "    * 1995 - Java, PHP, Javascript, Ruby\n",
    "    * 2012 - Julia (https://julialang.org/)"
   ]
  },
  {
   "cell_type": "markdown",
   "metadata": {},
   "source": [
    "# Why Python?\n",
    "\n",
    "* Multi-purpose language (analyze data, create software, websites, etc.)\n",
    "* Most popular language in science, large community, lots of online help and books\n",
    "* Free, \n",
    "* Syntax somewhat similar to that of Matlab"
   ]
  },
  {
   "cell_type": "markdown",
   "metadata": {},
   "source": [
    "* Read paper by Philip Guo 2013\n",
    "* Read paper by Sandve et al 2013"
   ]
  }
 ],
 "metadata": {
  "kernelspec": {
   "display_name": "Python 3",
   "language": "python",
   "name": "python3"
  },
  "language_info": {
   "codemirror_mode": {
    "name": "ipython",
    "version": 3
   },
   "file_extension": ".py",
   "mimetype": "text/x-python",
   "name": "python",
   "nbconvert_exporter": "python",
   "pygments_lexer": "ipython3",
   "version": "3.7.0"
  }
 },
 "nbformat": 4,
 "nbformat_minor": 2
}
