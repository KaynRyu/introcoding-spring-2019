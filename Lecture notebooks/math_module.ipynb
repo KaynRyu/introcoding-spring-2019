{
 "cells": [
  {
   "cell_type": "markdown",
   "metadata": {},
   "source": [
    "# Math module\n",
    "\n",
    "Common functions of the math module"
   ]
  },
  {
   "cell_type": "code",
   "execution_count": 2,
   "metadata": {},
   "outputs": [
    {
     "name": "stdout",
     "output_type": "stream",
     "text": [
      "90.87\n",
      "90.9\n",
      "3.141592653589793\n",
      "90\n",
      "91\n",
      "-0.9722372823920781\n",
      "0.23399715110844135\n",
      "False\n",
      "1.5859806912872474\n",
      "1.0\n"
     ]
    }
   ],
   "source": [
    "import math\n",
    "\n",
    "# Define a value\n",
    "value = 90.87\n",
    "print(value)\n",
    "\n",
    "# The math module does not have a round function.\n",
    "# Python has a round function as part of its core functions.\n",
    "print(round(value,1))      # The second argument specifies the number of decimal places\n",
    "\n",
    "print(math.pi)             # Pi\n",
    "print(math.floor(value))   # largest integer smaller than or equal to a given number.\n",
    "print(math.ceil(value))    # smallest integer greater than or equal to a given number.\n",
    "print(math.cos(value))     # cosine\n",
    "print(math.sin(value))     # sine\n",
    "print(math.isnan(value))   # check if value is NaN\n",
    "print(math.radians(value)) # pi-radians\n",
    "print(math.cos(0))"
   ]
  },
  {
   "cell_type": "code",
   "execution_count": 3,
   "metadata": {},
   "outputs": [
    {
     "name": "stdout",
     "output_type": "stream",
     "text": [
      "The area of a circle with a diameter of 2.5 cm has an area of 4.908738521234052\n"
     ]
    }
   ],
   "source": [
    "# Calculate area of a circle\n",
    "diameter = 2.5 # cm\n",
    "circle_area = math.pi * (diameter/2)**2\n",
    "print('The area of a circle with a diameter of {diameter} cm has an area of {circle_area}'.format(diameter=diameter,circle_area=circle_area))"
   ]
  },
  {
   "cell_type": "code",
   "execution_count": 7,
   "metadata": {},
   "outputs": [
    {
     "name": "stdout",
     "output_type": "stream",
     "text": [
      "3.0931886137027216 kPa\n",
      "3.09 kPa\n"
     ]
    }
   ],
   "source": [
    "# Calculate vapor pressure deficit using math module and scalars\n",
    "\n",
    "airTemperature = 35; # Celsius\n",
    "relativeHumidity = 45; # Percent\n",
    "\n",
    "saturatedVaporPressure = 0.611 * math.exp((17.502*airTemperature)/(airTemperature + 240.97)); # kPa\n",
    "actualVaporPressue = saturatedVaporPressure * relativeHumidity/100;\n",
    "\n",
    "vaporPressureDeficit = saturatedVaporPressure - actualVaporPressue\n",
    "print(str(vaporPressureDeficit) + ' kPa')\n",
    "print(str(round(vaporPressureDeficit,2)) + ' kPa')"
   ]
  },
  {
   "cell_type": "code",
   "execution_count": 6,
   "metadata": {},
   "outputs": [
    {
     "ename": "TypeError",
     "evalue": "can't multiply sequence by non-int of type 'float'",
     "output_type": "error",
     "traceback": [
      "\u001b[0;31m---------------------------------------------------------------------------\u001b[0m",
      "\u001b[0;31mTypeError\u001b[0m                                 Traceback (most recent call last)",
      "\u001b[0;32m<ipython-input-6-5b9c9ac43e64>\u001b[0m in \u001b[0;36m<module>\u001b[0;34m()\u001b[0m\n\u001b[1;32m      5\u001b[0m \u001b[0mrelativeHumidity\u001b[0m \u001b[0;34m=\u001b[0m \u001b[0;34m[\u001b[0m\u001b[0;36m45\u001b[0m\u001b[0;34m]\u001b[0m\u001b[0;34m;\u001b[0m \u001b[0;31m# Percent\u001b[0m\u001b[0;34m\u001b[0m\u001b[0m\n\u001b[1;32m      6\u001b[0m \u001b[0;34m\u001b[0m\u001b[0m\n\u001b[0;32m----> 7\u001b[0;31m \u001b[0msaturatedVaporPressure\u001b[0m \u001b[0;34m=\u001b[0m \u001b[0;36m0.611\u001b[0m \u001b[0;34m*\u001b[0m \u001b[0mmath\u001b[0m\u001b[0;34m.\u001b[0m\u001b[0mexp\u001b[0m\u001b[0;34m(\u001b[0m\u001b[0;34m(\u001b[0m\u001b[0;36m17.502\u001b[0m\u001b[0;34m*\u001b[0m\u001b[0mairTemperature\u001b[0m\u001b[0;34m)\u001b[0m\u001b[0;34m/\u001b[0m\u001b[0;34m(\u001b[0m\u001b[0mairTemperature\u001b[0m \u001b[0;34m+\u001b[0m \u001b[0;36m240.97\u001b[0m\u001b[0;34m)\u001b[0m\u001b[0;34m)\u001b[0m\u001b[0;34m;\u001b[0m \u001b[0;31m# kPa\u001b[0m\u001b[0;34m\u001b[0m\u001b[0m\n\u001b[0m\u001b[1;32m      8\u001b[0m \u001b[0mactualVaporPressue\u001b[0m \u001b[0;34m=\u001b[0m \u001b[0msaturatedVaporPressure\u001b[0m \u001b[0;34m*\u001b[0m \u001b[0mrelativeHumidity\u001b[0m\u001b[0;34m/\u001b[0m\u001b[0;36m100\u001b[0m\u001b[0;34m;\u001b[0m\u001b[0;34m\u001b[0m\u001b[0m\n\u001b[1;32m      9\u001b[0m \u001b[0;34m\u001b[0m\u001b[0m\n",
      "\u001b[0;31mTypeError\u001b[0m: can't multiply sequence by non-int of type 'float'"
     ]
    }
   ],
   "source": [
    "# Calculate vapor pressure deficit using math module and arrays (IT WILL NOT WORK)\n",
    "\n",
    "airTemperature = [35,18]; # Celsius\n",
    "relativeHumidity = [45,88]; # Percent\n",
    "\n",
    "saturatedVaporPressure = 0.611 * math.exp((17.502*airTemperature)/(airTemperature + 240.97)); # kPa\n",
    "actualVaporPressue = saturatedVaporPressure * relativeHumidity/100;\n",
    "\n",
    "vaporPressureDeficit = saturatedVaporPressure - actualVaporPressue\n",
    "print(str(vaporPressureDeficit) + ' kPa')\n",
    "print(str(round(vaporPressureDeficit,2)) + ' kPa')"
   ]
  }
 ],
 "metadata": {
  "kernelspec": {
   "display_name": "Python 3",
   "language": "python",
   "name": "python3"
  },
  "language_info": {
   "codemirror_mode": {
    "name": "ipython",
    "version": 3
   },
   "file_extension": ".py",
   "mimetype": "text/x-python",
   "name": "python",
   "nbconvert_exporter": "python",
   "pygments_lexer": "ipython3",
   "version": "3.7.0"
  }
 },
 "nbformat": 4,
 "nbformat_minor": 2
}
