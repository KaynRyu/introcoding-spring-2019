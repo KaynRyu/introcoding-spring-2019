{
 "cells": [
  {
   "cell_type": "markdown",
   "metadata": {},
   "source": [
    "# Math module\n",
    "\n",
    "Common functions of the math module"
   ]
  },
  {
   "cell_type": "code",
   "execution_count": 2,
   "metadata": {},
   "outputs": [
    {
     "name": "stdout",
     "output_type": "stream",
     "text": [
      "90.87\n",
      "90.9\n",
      "3.141592653589793\n",
      "90\n",
      "91\n",
      "-0.9722372823920781\n",
      "0.23399715110844135\n",
      "False\n",
      "1.5859806912872474\n",
      "1.0\n"
     ]
    }
   ],
   "source": [
    "import math\n",
    "\n",
    "# Define a value\n",
    "value = 90.87\n",
    "print(value)\n",
    "\n",
    "# The math module does not have a round function.\n",
    "# Python has a round function as part of its core functions.\n",
    "print(round(value,1))      # The second argument specifies the number of decimal places\n",
    "\n",
    "print(math.pi)             # Pi\n",
    "print(math.floor(value))   # largest integer smaller than or equal to a given number.\n",
    "print(math.ceil(value))    # smallest integer greater than or equal to a given number.\n",
    "print(math.cos(value))     # cosine\n",
    "print(math.sin(value))     # sine\n",
    "print(math.isnan(value))   # check if value is NaN\n",
    "print(math.radians(value)) # pi-radians\n",
    "print(math.cos(0))"
   ]
  },
  {
   "cell_type": "code",
   "execution_count": 3,
   "metadata": {},
   "outputs": [
    {
     "name": "stdout",
     "output_type": "stream",
     "text": [
      "The area of a circle with a diameter of 2.5 cm has an area of 4.908738521234052\n"
     ]
    }
   ],
   "source": [
    "# Calculate area of a circle\n",
    "diameter = 2.5 # cm\n",
    "circle_area = math.pi * (diameter/2)**2\n",
    "print('The area of a circle with a diameter of {diameter} cm has an area of {circle_area}'.format(diameter=diameter,circle_area=circle_area))"
   ]
  },
  {
   "cell_type": "code",
   "execution_count": 7,
   "metadata": {},
   "outputs": [
    {
     "name": "stdout",
     "output_type": "stream",
     "text": [
      "3.0931886137027216 kPa\n",
      "3.09 kPa\n"
     ]
    }
   ],
   "source": [
    "# Calculate vapor pressure deficit using math module and scalars\n",
    "\n",
    "airTemperature = 35; # Celsius\n",
    "relativeHumidity = 45; # Percent\n",
    "\n",
    "saturatedVaporPressure = 0.611 * math.exp((17.502*airTemperature)/(airTemperature + 240.97)); # kPa\n",
    "actualVaporPressue = saturatedVaporPressure * relativeHumidity/100;\n",
    "\n",
    "vaporPressureDeficit = saturatedVaporPressure - actualVaporPressue\n",
    "print(str(vaporPressureDeficit) + ' kPa')\n",
    "print(str(round(vaporPressureDeficit,2)) + ' kPa')"
   ]
  }
 ],
 "metadata": {
  "kernelspec": {
   "display_name": "Python 3",
   "language": "python",
   "name": "python3"
  },
  "language_info": {
   "codemirror_mode": {
    "name": "ipython",
    "version": 3
   },
   "file_extension": ".py",
   "mimetype": "text/x-python",
   "name": "python",
   "nbconvert_exporter": "python",
   "pygments_lexer": "ipython3",
   "version": "3.7.0"
  }
 },
 "nbformat": 4,
 "nbformat_minor": 2
}
